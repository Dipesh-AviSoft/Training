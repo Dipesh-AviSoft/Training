{
 "cells": [
  {
   "cell_type": "code",
   "execution_count": 2,
   "id": "7ecffbc1-9ae8-42cd-80bb-a87e066ae9db",
   "metadata": {},
   "outputs": [
    {
     "name": "stdout",
     "output_type": "stream",
     "text": [
      "Name =  dipesh  Roll number =  23\n"
     ]
    }
   ],
   "source": [
    "class students:\n",
    "\n",
    "    mini_threshold = 33\n",
    "  \n",
    "    def __init__(self,name,roll_no,address,academic_records):\n",
    "        self.name = name\n",
    "        self.rollno = roll_no\n",
    "        self.address = address\n",
    "        self.result = academic_records\n",
    "\n",
    "    def printdata(self):\n",
    "        print(self.name,\" \",self.rollno,\" \",self.address,\" \",self.result)\n",
    "\n",
    "\n",
    "\n",
    "    def top5studentsList(self):\n",
    "        pass\n",
    "\n",
    "    def AttentionList(self):\n",
    "        for key,value in self.result.items():\n",
    "            if value<self.mini_threshold:\n",
    "                print(\"Name = \",self.name,\" Roll number = \",self.rollno)\n",
    "\n",
    "    def segregatedList(self):\n",
    "        pass\n",
    "        \n",
    "                \n",
    "        \n",
    "        \n",
    "        \n",
    "def main():\n",
    "\n",
    "    recordOfStudents = []\n",
    " \n",
    "    n = int(input(\"Enter how many records u want to insert\"))\n",
    "    for i in range(n):\n",
    "        temp_dict = {}\n",
    "        name = input(\"Enter the name of student\")\n",
    "        roll_no = int(input(\"Enter the roll no of student\"))\n",
    "        address = input(\"Enter the address of student\")\n",
    "        \n",
    "        subject_list = input(\"Enter the name of subjects space seperated\").split()\n",
    "        marks_list = input(\"Enter the marks according to the subject entered\").split()\n",
    "        for (subjects,mark) in zip(subject_list,marks_list):\n",
    "            temp_dict[subjects] = int(mark)\n",
    "\n",
    "        \n",
    "        \n",
    "        temp_obj = students(name,roll_no,address,temp_dict.copy())\n",
    "        recordOfStudents.append(temp_obj)\n",
    "\n",
    "    for i in recordOfStudents:\n",
    "        i.AttentionList()\n",
    "        print(\"all ok\")\n",
    "\n",
    "\n",
    "\n",
    "if __name__ == \"__main__\":\n",
    "    main()\n",
    "    \n",
    "\n",
    "        \n",
    "        \n",
    "        \n",
    "    \n",
    "    "
   ]
  },
  {
   "cell_type": "code",
   "execution_count": null,
   "id": "fef1df46-159d-4a1d-9f5b-4951aed6f074",
   "metadata": {},
   "outputs": [],
   "source": []
  },
  {
   "cell_type": "code",
   "execution_count": null,
   "id": "6dfc73e7-4c7b-4872-aa2d-2a1e0200f410",
   "metadata": {},
   "outputs": [],
   "source": []
  }
 ],
 "metadata": {
  "kernelspec": {
   "display_name": "Python 3 (ipykernel)",
   "language": "python",
   "name": "python3"
  },
  "language_info": {
   "codemirror_mode": {
    "name": "ipython",
    "version": 3
   },
   "file_extension": ".py",
   "mimetype": "text/x-python",
   "name": "python",
   "nbconvert_exporter": "python",
   "pygments_lexer": "ipython3",
   "version": "3.11.4"
  }
 },
 "nbformat": 4,
 "nbformat_minor": 5
}
