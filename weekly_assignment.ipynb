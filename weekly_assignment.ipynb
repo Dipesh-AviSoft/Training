{
 "cells": [
  {
   "cell_type": "code",
   "execution_count": 42,
   "id": "7ecffbc1-9ae8-42cd-80bb-a87e066ae9db",
   "metadata": {},
   "outputs": [
    {
     "name": "stdout",
     "output_type": "stream",
     "text": [
      "Lily\n"
     ]
    }
   ],
   "source": [
    "from random import randint\n",
    "\n",
    "class students:\n",
    "\n",
    "    mini_threshold = 33\n",
    "  \n",
    "    def __init__(self,name,roll_no,address,academic_records):\n",
    "        self.name = name\n",
    "        self.rollno = roll_no\n",
    "        self.address = address\n",
    "        self.result = academic_records\n",
    "\n",
    "    def printdata(self):\n",
    "        print(self.name,\" \",self.rollno,\" \",self.address,\" \",self.result)\n",
    "\n",
    "    def calculateAvg(self):\n",
    "        total_marks = sum(self.result.value())\n",
    "\n",
    "    def top5studentsList(self):\n",
    "        sorted_list = sorted()\n",
    "\n",
    "    def AttentionList(self):\n",
    "        for key,value in self.result.items():\n",
    "            if value<self.mini_threshold:\n",
    "                print(self.name)\n",
    "            break\n",
    "            \n",
    "\n",
    "    def segregatedList(self):\n",
    "        pass\n",
    "        \n",
    "        \n",
    "        \n",
    "def main():\n",
    "\n",
    "    recordOfStudents = []\n",
    " \n",
    "    # n = int(input(\"Enter how many records u want to insert\"))\n",
    "    # for i in range(n):\n",
    "    #     temp_dict = {}\n",
    "    #     name = input(\"Enter the name of student\")\n",
    "    #     roll_no = int(input(\"Enter the roll no of student\"))\n",
    "    #     address = input(\"Enter th\n",
    "    # e address of student\")\n",
    "        \n",
    "    #     subject_list = input(\"Enter the name of subjects space seperated\").split()\n",
    "    #     marks_list = input(\"Enter the marks according to the subject entered\").split()\n",
    "    #     for (subjects,mark) in zip(subject_list,marks_list):\n",
    "    #         temp_dict[subjects] = int(mark)\n",
    "\n",
    "        \n",
    "        \n",
    "    #     temp_obj = students(name,roll_no,address,temp_dict.copy())\n",
    "    #     recordOfStudents.append(temp_obj)\n",
    "\n",
    "    temprecords = [  [students(\"Alex\", 6, \"Beachfront Blvd\", {\"Math\": 82, \"English\": 90, \"Biology\": 75})],\n",
    "                    [students(\"Sarah\", 7, \"Hilltop Drive\", {\"Computer Science\": 98, \"Literature\": 85})],\n",
    "                    [students(\"Ben\", 8, \"City Center\", {\"Math\": 70, \"Physics\": 68, \"Chemistry\": 81, \"Biology\": 92})],\n",
    "                    [students(\"Olivia\", 9, \"Park Lane\", {\"Math\": 100, \"English\": 100, \"History\": 88})],\n",
    "                    [students(\"Noah\", 10, \"Forest Road\", {\"Physics\": 100, \"Chemistry\": 100, \"Biology\": 95})],\n",
    "                    [students(\"Lily\", 11, \"Ocean View\", {\"Math\": 28, \"Physics\": 32, \"English\": 35})],\n",
    "                    [students(\"William\", 12, \"Mountain Trail\", {\"Computer Science\": 40, \"History\": 38})]]\n",
    "            \n",
    "                      \n",
    "\n",
    "\n",
    "    for i in temprecords:\n",
    "        obj = i[0]\n",
    "        recordOfStudents.append(obj)\n",
    "\n",
    "    for i in recordOfStudents:\n",
    "        i.AttentionList()\n",
    "\n",
    "\n",
    "\n",
    "if __name__ == \"__main__\":\n",
    "    main()\n",
    "    \n",
    "    "
   ]
  },
  {
   "cell_type": "code",
   "execution_count": null,
   "id": "03c92786",
   "metadata": {},
   "outputs": [],
   "source": []
  },
  {
   "cell_type": "code",
   "execution_count": null,
   "id": "962fac2c",
   "metadata": {},
   "outputs": [],
   "source": []
  },
  {
   "cell_type": "code",
   "execution_count": null,
   "id": "a3682b68",
   "metadata": {},
   "outputs": [],
   "source": []
  }
 ],
 "metadata": {
  "kernelspec": {
   "display_name": "Python 3 (ipykernel)",
   "language": "python",
   "name": "python3"
  },
  "language_info": {
   "codemirror_mode": {
    "name": "ipython",
    "version": 3
   },
   "file_extension": ".py",
   "mimetype": "text/x-python",
   "name": "python",
   "nbconvert_exporter": "python",
   "pygments_lexer": "ipython3",
   "version": "3.11.4"
  }
 },
 "nbformat": 4,
 "nbformat_minor": 5
}
