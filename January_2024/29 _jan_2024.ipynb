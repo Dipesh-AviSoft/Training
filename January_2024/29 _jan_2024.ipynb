{
 "cells": [
  {
   "cell_type": "code",
   "execution_count": 8,
   "id": "4e3d6a9b-6edd-4218-9625-96d68b52cb80",
   "metadata": {},
   "outputs": [
    {
     "name": "stdin",
     "output_type": "stream",
     "text": [
      "Enter the number 10\n"
     ]
    },
    {
     "name": "stdout",
     "output_type": "stream",
     "text": [
      "1010"
     ]
    }
   ],
   "source": [
    "# integer to binary\n",
    "num = int(input(\"Enter the number\"))\n",
    "\n",
    "binary = []\n",
    "\n",
    "while(num>=1):\n",
    "    if(num%2==0):\n",
    "        binary.append(0)\n",
    "       \n",
    "    else:\n",
    "        binary.append(1)\n",
    "    num = num //2\n",
    "\n",
    "binary = binary[::-1]\n",
    "for num in binary:\n",
    "    print(num,end=\"\")\n",
    "\n",
    "    \n",
    "        "
   ]
  },
  {
   "cell_type": "code",
   "execution_count": 12,
   "id": "ce47831b-1039-4b5e-8f4f-1a5e8548de83",
   "metadata": {
    "scrolled": true
   },
   "outputs": [
    {
     "name": "stdin",
     "output_type": "stream",
     "text": [
      "Enter the number 13\n"
     ]
    },
    {
     "name": "stdout",
     "output_type": "stream",
     "text": [
      "2\n",
      "3\n",
      "5\n",
      "7\n",
      "11\n",
      "13\n"
     ]
    }
   ],
   "source": [
    "\"\"\"\n",
    "2.Given an integer N, print all the prime numbers that lie in the range 2 to N (both inclusive).\n",
    "Print the prime numbers in different lines.\n",
    "Sample Input:\n",
    "9\n",
    "Sample Output:\n",
    "2\n",
    "3\n",
    "5\n",
    "7\n",
    "\"\"\"\n",
    "\n",
    "num = int(input(\"Enter the number\"))\n",
    "\n",
    "for canPrime in range(2,num+1):\n",
    "    isPrime = True\n",
    "    for n in range(2,canPrime):\n",
    "        if canPrime%n==0:\n",
    "            isPrime = False\n",
    "    if(isPrime == True):\n",
    "        print(canPrime)\n",
    "\n",
    "            \n",
    "            \n",
    "    "
   ]
  },
  {
   "cell_type": "code",
   "execution_count": 3,
   "id": "aaa13093-64ce-4c0e-9ec4-00b9238a30c5",
   "metadata": {},
   "outputs": [
    {
     "name": "stdin",
     "output_type": "stream",
     "text": [
      "Value of n 5\n"
     ]
    },
    {
     "name": "stdout",
     "output_type": "stream",
     "text": [
      "    1\n",
      "   232\n",
      "  34543\n",
      " 4567654\n",
      "567898765\n"
     ]
    }
   ],
   "source": [
    "\"\"\"\n",
    "3.Print the following pattern for the given number of rows.\n",
    "Pattern for N = 5\n",
    "\n",
    "           1\n",
    "          232\n",
    "         34543\n",
    "        4567654\n",
    "       567898765\n",
    "\n",
    "\"\"\"\n",
    "\n",
    "n = int(input(\"Value of n\"))\n",
    "\n",
    "space = n-1\n",
    "num = 1\n",
    "column = 1\n",
    "for row in range(0,n):\n",
    "    temp = num\n",
    "    for spaces in range(space):\n",
    "        print(\" \",end=\"\")\n",
    "    for col in range(row+1):\n",
    "        print(num,end=\"\")\n",
    "        num= num+1\n",
    "    num = num-2\n",
    "    for next in range(row):\n",
    "        print(num,end=\"\")\n",
    "        num = num - 1\n",
    "        \n",
    "    num = temp+1\n",
    "    print('\\n',end=\"\")\n",
    "    space -=1\n",
    "    "
   ]
  },
  {
   "cell_type": "code",
   "execution_count": 14,
   "id": "a124b866-4b36-4b47-957a-7d0e25584581",
   "metadata": {},
   "outputs": [
    {
     "name": "stdin",
     "output_type": "stream",
     "text": [
      "Enter some odd value 4\n"
     ]
    },
    {
     "name": "stdout",
     "output_type": "stream",
     "text": [
      "    \n",
      " ** \n",
      "****\n",
      " ** \n"
     ]
    }
   ],
   "source": [
    "\"\"\"\n",
    "4.Print the following pattern for the given number of rows.\n",
    "Note: N is always odd.\n",
    "Pattern for N = 5\n",
    "\n",
    "  *\n",
    " ***\n",
    "*****\n",
    " ***\n",
    "  *\n",
    "\n",
    "\n",
    "\n",
    "\n",
    "  *\n",
    " ***\n",
    "*****\n",
    "\n",
    "\"\"\"\n",
    "\n",
    "n = int(input(\"Enter some odd value\"))\n",
    "space = n//2\n",
    "\n",
    "for row in range(0,n//2 +1):\n",
    "    for spaces in range(0,space):\n",
    "        print(\" \",end=\"\")\n",
    "    for start in range(space,n-space):\n",
    "        print(\"*\",end=\"\")\n",
    "    for spaces in range(n-space,n):\n",
    "        print(\" \",end=\"\")\n",
    "    print('\\n',end=\"\")\n",
    "    space -= 1\n",
    "\n",
    "space = 1\n",
    "for row in range(n//2 +1,n):\n",
    "    for spaces in range(0,space):\n",
    "        print(\" \",end=\"\")\n",
    "    for start in range(space,n-space):\n",
    "        print(\"*\",end=\"\")\n",
    "    for spaces in range(n-space,n):\n",
    "        print(\" \",end=\"\")\n",
    "    print('\\n',end=\"\")\n",
    "    space += 1\n",
    "    \n",
    "    "
   ]
  },
  {
   "cell_type": "code",
   "execution_count": 15,
   "id": "9c4b7ca7-968f-43e9-9e2b-71e363c0851e",
   "metadata": {},
   "outputs": [
    {
     "name": "stdin",
     "output_type": "stream",
     "text": [
      "Enter the number 12\n"
     ]
    },
    {
     "name": "stdout",
     "output_type": "stream",
     "text": [
      "1=1\n",
      "\n",
      "1+2=3\n",
      "\n",
      "1+2+3=6\n",
      "\n",
      "1+2+3+4=10\n",
      "\n",
      "1+2+3+4+5=15\n",
      "\n",
      "1+2+3+4+5+6=21\n",
      "\n",
      "1+2+3+4+5+6+7=28\n",
      "\n",
      "1+2+3+4+5+6+7+8=36\n",
      "\n",
      "1+2+3+4+5+6+7+8+9=45\n",
      "\n",
      "1+2+3+4+5+6+7+8+9+10=55\n",
      "\n",
      "1+2+3+4+5+6+7+8+9+10+11=66\n",
      "\n"
     ]
    }
   ],
   "source": [
    "\"\"\"\n",
    "\n",
    "5.Write a program to print triangle of user defined integers sum.\n",
    "\n",
    "Sample Input \n",
    "3\n",
    "Sample Output :\n",
    "1=1\n",
    "1+2=3\n",
    "1+2+3=6\n",
    "\n",
    "\"\"\"\n",
    "\n",
    "# LHS Pattern\n",
    "num = int(input(\"Enter the number\"))\n",
    "\n",
    "num_start = 1\n",
    "next_num = num_start+1\n",
    "sum = 1\n",
    "\n",
    "\n",
    "for row in range(1,num):\n",
    "\n",
    "    for i in range(1,row+1):\n",
    "        if(i!=1):\n",
    "            print('+',end=\"\")\n",
    "        print(i,end=\"\")\n",
    "        \n",
    "        \n",
    "    print('=',end=\"\")\n",
    "    print(sum)\n",
    "    print('\\n',end=\"\")\n",
    "    next_num = num_start+1\n",
    "    sum = sum + next_num\n",
    "    num_start += 1\n",
    "    \n",
    "    \n",
    "\n",
    "\n"
   ]
  },
  {
   "cell_type": "code",
   "execution_count": 19,
   "id": "6d4cc12f-0df2-49bd-9d9d-abb73e97e911",
   "metadata": {},
   "outputs": [
    {
     "data": {
      "text/plain": [
       "True"
      ]
     },
     "execution_count": 19,
     "metadata": {},
     "output_type": "execute_result"
    }
   ],
   "source": [
    "\"\"\"\n",
    "6.Check whether a given number ’n’ is a palindrome number.\n",
    "Note :\n",
    "Palindrome numbers are the numbers that don't change when reversed.\n",
    "You don’t need to print anything. Just implement the given function.\n",
    "Example:\n",
    "Input: 'n' = 51415\n",
    "Output: true\n",
    "Explanation: On reversing, 51415 gives 51415.\n",
    "\"\"\"\n",
    "\n",
    "def isPalindrome(num):\n",
    "    original_number = num\n",
    "   \n",
    "    reverse_number =0\n",
    "    while(num>0):\n",
    "        digit = num%10\n",
    "        reverse_number = reverse_number*10 + digit\n",
    "        num = num//10\n",
    "        \n",
    "    return original_number == reverse_number\n",
    "\n",
    "isPalindrome(1236321)"
   ]
  },
  {
   "cell_type": "code",
   "execution_count": 20,
   "id": "8995e37b-24e2-42cf-bade-5b6e386c1900",
   "metadata": {},
   "outputs": [
    {
     "name": "stdin",
     "output_type": "stream",
     "text": [
      "Enter the number 5\n"
     ]
    },
    {
     "name": "stdout",
     "output_type": "stream",
     "text": [
      "5432*\n",
      "543*1\n",
      "54*21\n",
      "5*321\n",
      "*4321\n"
     ]
    }
   ],
   "source": [
    "\"\"\"\n",
    "7.Print the following pattern for given number of rows.\n",
    "input N=5\n",
    "\n",
    " 5432*\n",
    " 543*1\n",
    " 54*21\n",
    " 5*321\n",
    " *4321\n",
    "\n",
    " \"\"\"\n",
    "\n",
    "n = int(input(\"Enter the number\"))\n",
    "num = n\n",
    "copyOfn = num\n",
    "star_index = n-1\n",
    "\n",
    "for row in range(0,n):\n",
    "    for col in range(0,n):\n",
    "        if(col == star_index):\n",
    "            print('*',end=\"\")\n",
    "            star_index -= 1\n",
    "        else:\n",
    "            print(num,end=\"\")\n",
    "        num = num-1\n",
    "\n",
    "    num = copyOfn\n",
    "    print('\\n',end=\"\")\n",
    "    \n",
    "        \n",
    "    \n",
    "    \n",
    "    \n"
   ]
  },
  {
   "cell_type": "code",
   "execution_count": null,
   "id": "c27ef932-a386-42cb-861e-15c656d7920d",
   "metadata": {},
   "outputs": [],
   "source": []
  },
  {
   "cell_type": "code",
   "execution_count": null,
   "id": "4f47abe0-bbeb-46e4-b830-f49e1901c35d",
   "metadata": {},
   "outputs": [],
   "source": []
  }
 ],
 "metadata": {
  "kernelspec": {
   "display_name": "Python 3 (ipykernel)",
   "language": "python",
   "name": "python3"
  },
  "language_info": {
   "codemirror_mode": {
    "name": "ipython",
    "version": 3
   },
   "file_extension": ".py",
   "mimetype": "text/x-python",
   "name": "python",
   "nbconvert_exporter": "python",
   "pygments_lexer": "ipython3",
   "version": "3.11.4"
  }
 },
 "nbformat": 4,
 "nbformat_minor": 5
}
