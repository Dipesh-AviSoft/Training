{
 "cells": [
  {
   "cell_type": "code",
   "execution_count": 140,
   "id": "a9aac858-af67-4a83-bc8f-a34dbd6ab031",
   "metadata": {},
   "outputs": [
    {
     "name": "stdin",
     "output_type": "stream",
     "text": [
      " 3\n"
     ]
    },
    {
     "name": "stdout",
     "output_type": "stream",
     "text": [
      "\n",
      "\n",
      "45\n"
     ]
    }
   ],
   "source": [
    "\"\"\"\n",
    "5.Problem statement\n",
    "For a given two-dimensional square matrix of size (N x N). Find the total sum of elements on both the diagonals and at all the\n",
    "four boundaries.\n",
    "\n",
    "Sample input 1:\n",
    "1\n",
    "3\n",
    "1 2 3\n",
    "4 5 6\n",
    "7 8 9\n",
    "Sample Output 1:\n",
    "45\n",
    "Explanation for Sample Output 1:\n",
    "The boundary elements are 1, 2, 3, 6, 9, 8, 7 and 4. \n",
    "\n",
    "The first-diagonal elements are 1, 5 and 9. \n",
    "\n",
    "The second-diagonal elements are 3, 5 and 7.\n",
    "\n",
    "We just need to add all these numbers making sure that no number is added twice. For example, '1' is both a boundary \n",
    "element and a first-diagonal element similarly, '5' contributes to both the diagonals but they won't be added twice.\n",
    "\n",
    "Hence, we add up, [1 + 2 + 3 + 6 + 9 + 8 + 7 + 4 + 5] to give 45 as the output.\n",
    "\n",
    "\"\"\"\n",
    "\n",
    "n = int(input())\n",
    "matrix = []\n",
    "num = 1\n",
    "for i in range(n):\n",
    "    temp_row = []\n",
    "    for j in range(n):\n",
    "        temp_row.append(num)\n",
    "        num+=1\n",
    "    matrix.append(temp_row)\n",
    "\n",
    "sum = 0\n",
    "\n",
    "for i in range(0,n):\n",
    "        #top row\n",
    "    sum = sum + matrix[0][i]\n",
    "      #bottom row\n",
    "    sum = sum + matrix[n-1][i] \n",
    "print(\"\\n\")\n",
    "        \n",
    "    \n",
    "for i in range(1,n-1):    \n",
    "      #left row\n",
    "    sum = sum + matrix[i][0]\n",
    "      #right row\n",
    "    sum = sum + matrix[i][n-1]\n",
    "       #left diagonal\n",
    "    sum = sum + matrix[i][i]\n",
    "    if(i==(n-i-1)):\n",
    "       matrix[i][n-i-1] = '*'         #right diagonal\n",
    "       continue\n",
    "    \n",
    "    else:\n",
    "        \n",
    "        sum = sum + matrix[i][n-i-1]\n",
    "\n",
    "print(sum)\n",
    "        "
   ]
  },
  {
   "cell_type": "code",
   "execution_count": 40,
   "id": "1ee41ff5-a4fa-4b23-bed3-af8a6b8f1441",
   "metadata": {},
   "outputs": [
    {
     "name": "stdout",
     "output_type": "stream",
     "text": [
      "[[5, 5, 2], [5, 5, 2], [5, 5, 2]]\n"
     ]
    }
   ],
   "source": [
    "\"\"\"\n",
    " 3Sum problem new logic\n",
    "\"\"\"\n",
    "arr = [10,5,5,5,2]\n",
    "target = 12\n",
    "result_array = []\n",
    "i = 0\n",
    "while(i<len(arr)):\n",
    "    j = i+1\n",
    "    k = len(arr)-1\n",
    "    while(j<k):\n",
    "        \n",
    "        if(arr[i]+arr[j]+arr[k] == target):\n",
    "            temp = [arr[i],arr[j],arr[k]]\n",
    "            result_array.append(temp)\n",
    "            j+=1\n",
    "        elif(arr[i]+arr[j]+arr[k] > target):\n",
    "            k-=1\n",
    "        else:\n",
    "            j+=1\n",
    "\n",
    "    i+=1\n",
    "print(result_array)\n",
    "\n"
   ]
  },
  {
   "cell_type": "code",
   "execution_count": 141,
   "id": "50d86770-a4a1-426b-9f3a-5e7b379215d3",
   "metadata": {},
   "outputs": [
    {
     "name": "stdin",
     "output_type": "stream",
     "text": [
      "Enter the string this is me\n"
     ]
    },
    {
     "name": "stdout",
     "output_type": "stream",
     "text": [
      "3\n"
     ]
    }
   ],
   "source": [
    "\"\"\"\n",
    "1.Count Words\n",
    "Problem statement\n",
    "For a given input string(str6), find and return the total number of words present in it.\n",
    "\n",
    "It is assumed that two words will have only a single space in between. Also, there wouldn't be any\n",
    "leading and trailing spaces in the given input string.\n",
    "\n",
    "Sample Input 1:\n",
    "This is Avisoft\n",
    "Sample Output 1:\n",
    "3\n",
    "\"\"\"\n",
    "\n",
    "# str6 = input(\"Enter the string\")\n",
    "# a = str6.split()\n",
    "# print(len(a))\n",
    "\n",
    "# or \n",
    "\n",
    "str6 = input(\"Enter the string\")\n",
    "count = 1\n",
    "if(len(str6)==0):\n",
    "    count = 0\n",
    "for i in str6:\n",
    "    if(i == ' '):\n",
    "        count +=1\n",
    "print(count)\n",
    "        \n",
    "\n",
    "\n"
   ]
  },
  {
   "cell_type": "code",
   "execution_count": 142,
   "id": "3b7411f0-22da-42f5-a369-90c4dfb50287",
   "metadata": {},
   "outputs": [
    {
     "data": {
      "text/plain": [
       "True"
      ]
     },
     "execution_count": 142,
     "metadata": {},
     "output_type": "execute_result"
    }
   ],
   "source": [
    "'''\n",
    "Problem statement\n",
    "Given a string, determine if it is a palindrome, considering only alphanumeric characters.\n",
    "\n",
    "Palindrome\n",
    "A palindrome is a word, number, phrase, or other sequences of characters which read the same backwards and forwards.\n",
    "Example:\n",
    "If the input string happens to be, \"malayalam\" then as we see that this word can be read the same as forward and backwards,\n",
    "it is said to be a valid palindrome.\n",
    "\n",
    "The expected output for this example will print, 'true'.\n",
    "From that being said, you are required to return a boolean value from the function that has been asked to implement.\n",
    "'''\n",
    "\n",
    "def palcheck(str6):\n",
    "    ptr1 = 0\n",
    "    ptr2 = len(str6)-1\n",
    "\n",
    "    while(ptr1<ptr2):\n",
    "        while(not str6[ptr1].isalnum() and ptr1<ptr2):\n",
    "            ptr1+=1\n",
    "        while(not str6[ptr2].isalnum() and ptr1<ptr2):\n",
    "            ptr2-=1\n",
    "     \n",
    "        if(str6[ptr1]!=str6[ptr2]):\n",
    "            return False\n",
    "        ptr1+=1\n",
    "        ptr2-=1\n",
    "\n",
    "    return True\n",
    "\n",
    "str6 = \"012353210\"\n",
    "palcheck(str6)\n",
    "            "
   ]
  },
  {
   "cell_type": "code",
   "execution_count": 143,
   "id": "028f39eb-872c-4ba2-bc3b-6671426e383b",
   "metadata": {},
   "outputs": [
    {
     "name": "stdin",
     "output_type": "stream",
     "text": [
      "Enter the number abcde\n"
     ]
    },
    {
     "name": "stdout",
     "output_type": "stream",
     "text": [
      "['a', 'ab', 'abc', 'abcd', 'abcde', 'b', 'bc', 'bcd', 'bcde', 'c', 'cd', 'cde', 'd', 'de', 'e']\n"
     ]
    }
   ],
   "source": [
    "\"\"\"\n",
    "\n",
    "3.All Substrings\n",
    "Problem statement\n",
    "For a given input string(str6), write a function to print all the possible substrings.\n",
    "\n",
    "Substring\n",
    "A substring is a contiguous sequence of characters within a string. \n",
    "Example: \"cod\" is a substring of \"coding\". Whereas, \"cdng\" is not as the characters taken are not contiguous\n",
    "\n",
    "Sample Input 1:\n",
    "abc\n",
    "Sample Output 1:\n",
    "a \n",
    "ab \n",
    "abc \n",
    "b \n",
    "bc \n",
    "c \n",
    "\n",
    "\"\"\"\n",
    "\n",
    "str6 = input(\"Enter the number\")\n",
    "result = []\n",
    "for i in range(len(str6)):\n",
    "    temp = \"\"\n",
    "    for j in range(i,len(str6)):\n",
    "        temp = temp+str6[j]\n",
    "        result.append(temp)\n",
    "\n",
    "print(result)\n"
   ]
  },
  {
   "cell_type": "code",
   "execution_count": 82,
   "id": "837e0ff0-71b5-490a-a4c6-4e9b4b385bba",
   "metadata": {},
   "outputs": [
    {
     "name": "stdin",
     "output_type": "stream",
     "text": [
      "Enter the string1 string\n",
      "Enter the string2 strgni\n"
     ]
    },
    {
     "name": "stdout",
     "output_type": "stream",
     "text": [
      "True\n"
     ]
    }
   ],
   "source": [
    "\"\"\"\n",
    "\n",
    "4.check Permutation\n",
    "Problem statement\n",
    "For a given two strings, 'str1' and 'str2', check whether they are a permutation of each other or not.\n",
    "\n",
    "Permutations of each other\n",
    "Two strings are said to be a permutation of each other when either of the string's characters can be rearranged so that it becomes identical to the other one.\n",
    "\n",
    "Example: \n",
    "str1= \"sinrtg\" \n",
    "str2 = \"string\"\n",
    "\n",
    "The character of the first string(str1) can be rearranged to form str2 and hence we can say that the given strings are a permutation of each other.\n",
    "Sample Input 1:\n",
    "abcde\n",
    "baedc\n",
    "Sample Output 1:\n",
    "true\n",
    "\n",
    "\"\"\"\n",
    "str1 = input(\"Enter the string1\")\n",
    "str2 = input(\"Enter the string2\")\n",
    "\n",
    "dict = {}\n",
    "\n",
    "\n",
    "for i in str1:\n",
    "    if i in dict:\n",
    "        dict[i] += 1\n",
    "    else:\n",
    "        dict[i] = 1\n",
    "        \n",
    "for i in str2:\n",
    "    if i in dict:\n",
    "        dict.pop(i)\n",
    "    \n",
    "\n",
    "if(len(dict)==0):\n",
    "    print(True)\n",
    "else:\n",
    "    print(False)\n",
    "\n"
   ]
  },
  {
   "cell_type": "code",
   "execution_count": 145,
   "id": "0866e6d6-171a-48ba-8771-1179b486a1af",
   "metadata": {},
   "outputs": [
    {
     "name": "stdin",
     "output_type": "stream",
     "text": [
      "Enter the input aabbbccbba\n"
     ]
    },
    {
     "name": "stdout",
     "output_type": "stream",
     "text": [
      "abcba"
     ]
    }
   ],
   "source": [
    "\"\"\"\n",
    ".Remove Consecutive Duplicates\n",
    "Problem statement\n",
    "For a given string(str6), remove all the consecutive duplicate characters.\n",
    "\n",
    "Example:\n",
    "Input String: \"aaaa\"\n",
    "Expected Output: \"a\"\n",
    "\n",
    "Input String: \"aabbbcc\"\n",
    "Expected Output: \"abc\"\n",
    " Input Format:\n",
    "The first and only line of input contains a string without any leading and trailing spaces. All the characters in the string would be in lower case.\n",
    "Output Format:\n",
    "The only line of output prints the updated string.\n",
    "Note:\n",
    "You are not required to print anything. It has already been taken care of.\n",
    "\"\"\"\n",
    "\n",
    "str6 = input(\"Enter the input\")\n",
    "ptr = 0\n",
    "\n",
    "while(ptr<len(str6)-1):\n",
    "    if(str6[ptr]==str6[ptr+1]):\n",
    "        ptr+=1\n",
    "        continue\n",
    "    else:\n",
    "        print(str6[ptr],end=\"\")\n",
    "    ptr+=1\n",
    "print(str6[len(str6)-1],end=\"\")\n"
   ]
  },
  {
   "cell_type": "code",
   "execution_count": 146,
   "id": "b2e46d8e-e808-4a40-ab39-7494c4c3f531",
   "metadata": {},
   "outputs": [
    {
     "name": "stdin",
     "output_type": "stream",
     "text": [
      "Enter the string aabccbaa\n",
      "Enter element to remove a\n"
     ]
    },
    {
     "name": "stdout",
     "output_type": "stream",
     "text": [
      "bccb"
     ]
    }
   ],
   "source": [
    "\"\"\"\n",
    "6.Remove character\n",
    "Problem statement\n",
    "For a given a string(str6) and a character X, write a function to remove all the occurrences of X from the given string.\n",
    "\n",
    "The input string will remain unchanged if the given character(X) doesn't exist in the input string.\n",
    "\n",
    "Sample Input 1:\n",
    "aabccbaa\n",
    "a\n",
    "Sample Output 1:\n",
    "bccb\n",
    "\"\"\"\n",
    "\n",
    "str6 = input(\"Enter the string\")\n",
    "remove_this = input(\"Enter element to remove\")\n",
    "for i in str6:\n",
    "    if i==remove_this:\n",
    "        continue\n",
    "    else:\n",
    "        print(i,end=\"\")\n",
    "\n"
   ]
  },
  {
   "cell_type": "code",
   "execution_count": 147,
   "id": "c5722455-d4fd-4c14-baae-b6e8737654b2",
   "metadata": {},
   "outputs": [
    {
     "name": "stdin",
     "output_type": "stream",
     "text": [
      "Enter the String abdefgbabfba\n"
     ]
    },
    {
     "name": "stdout",
     "output_type": "stream",
     "text": [
      "b\n"
     ]
    }
   ],
   "source": [
    "\"\"\"\n",
    "\n",
    "7.Highest Occuring Charactor\n",
    "Problem statement\n",
    "For a given a string(str6), find and return the highest occurring character.\n",
    "\n",
    "Example:\n",
    "Input String: \"abcdeapapqarr\"\n",
    "Expected Output: 'a'\n",
    "Since 'a' has appeared four times in the string which happens to be the highest frequency character, the answer would be 'a'.\n",
    "If there are two characters in the input string with the same frequency, return the character which comes first.\n",
    "\n",
    "Consider:\n",
    "Assume all the characters in the given string to be in lowercase always.\n",
    "\n",
    "Sample Input 1:\n",
    "abdefgbabfba\n",
    "Sample Output 1:\n",
    "b\n",
    "\n",
    "\"\"\"\n",
    "\n",
    "str6 = input(\"Enter the String\")\n",
    "dict1 = {}\n",
    "\n",
    "for i in str6:\n",
    "    if i in dict1:\n",
    "        dict1[i] += 1\n",
    "    else:\n",
    "        dict1[i] = 1\n",
    "max_value = 0\n",
    "max_char =''\n",
    "for key,value in dict1.items():\n",
    "    if(value>max_value):\n",
    "        max_char = key\n",
    "        max_value = value\n",
    "print(max_char)"
   ]
  },
  {
   "cell_type": "code",
   "execution_count": 186,
   "id": "ac441d27-522f-48cc-a3d5-8ee9be402caa",
   "metadata": {},
   "outputs": [
    {
     "name": "stdin",
     "output_type": "stream",
     "text": [
      "Enter the string ddddddddddffffffffffffddddddddddsssssssss\n"
     ]
    },
    {
     "name": "stdout",
     "output_type": "stream",
     "text": [
      "d9f9d9s9"
     ]
    }
   ],
   "source": [
    "\"\"\"\n",
    "\n",
    "8.Compress the String\n",
    "Problem statement\n",
    "Write a program to do basic string compression. For a character which is consecutively repeated more than once,\n",
    "replace consecutive duplicate occurrences with the count of repetitions.\n",
    "\n",
    "Example:\n",
    "If a string has 'x' repeated 5 times, replace this \"xxxxx\" with \"x5\".\n",
    "\n",
    "The string is compressed only when the repeated character count is more than 1.\n",
    "Note:\n",
    "Consecutive count of every character in the input string is less than or equal to 9. You are not required to print\n",
    "anything. It has already been taken care of. Just implement the given function and return the compressed string.\n",
    "\"\"\"\n",
    "string = input(\"Enter the string\")\n",
    "count = 1\n",
    "i = 0\n",
    "while(i<=len(string)-1):\n",
    "    count = 1\n",
    "    print(string[i],end=\"\")\n",
    "    if(i==len(string)-1):\n",
    "        break\n",
    "    while(string[i]==string[i+1]):\n",
    "        \n",
    "        if(count<9):\n",
    "            count+=1\n",
    "        \n",
    "        if((i+1)<len(string)-1):\n",
    "            i+=1\n",
    "        else:\n",
    "            i+=1\n",
    "            break\n",
    "            \n",
    "    if(count!=1):\n",
    "        print(count,end=\"\")\n",
    "\n",
    "    i+=1\n",
    "\n",
    "\n",
    "\n",
    "    "
   ]
  },
  {
   "cell_type": "code",
   "execution_count": null,
   "id": "769309d4-1104-4b0e-b5af-ca8c5d14d58e",
   "metadata": {},
   "outputs": [],
   "source": []
  }
 ],
 "metadata": {
  "kernelspec": {
   "display_name": "Python 3 (ipykernel)",
   "language": "python",
   "name": "python3"
  },
  "language_info": {
   "codemirror_mode": {
    "name": "ipython",
    "version": 3
   },
   "file_extension": ".py",
   "mimetype": "text/x-python",
   "name": "python",
   "nbconvert_exporter": "python",
   "pygments_lexer": "ipython3",
   "version": "3.11.4"
  }
 },
 "nbformat": 4,
 "nbformat_minor": 5
}
