{
 "cells": [
  {
   "cell_type": "markdown",
   "metadata": {},
   "source": [
    "1. Write a function that accepts a line of text and a single letter as input (your program should be able to handle all upper and lower cases) and returns the number of times this letter is the second last character of a word. Note your program should be able to handle different cases. And check if the user input is a single letter. Think about how you deal with words ending with punctuation. Example: Input text = \"When the sun rises at dawn, the CHICKEN flies into the window.\" Input letter = \"E\" Output = \"The letter E has appeared 4 times as the second last letter of a word.\"\n"
   ]
  },
  {
   "cell_type": "code",
   "execution_count": 8,
   "metadata": {},
   "outputs": [
    {
     "data": {
      "text/plain": [
       "4"
      ]
     },
     "execution_count": 8,
     "metadata": {},
     "output_type": "execute_result"
    }
   ],
   "source": [
    "def solution(input_str,chr3):\n",
    "    counter = 0\n",
    "    if(len(input_str)<2):\n",
    "        return counter\n",
    "    else:\n",
    "        input_str = input_str.replace(\".\",\"\")\n",
    "        input_str = input_str.replace(\",\",\"\")\n",
    "        input_str = input_str.split()\n",
    "        for words in input_str:\n",
    "            if(words[len(words)-2] == chr3.lower() or words[len(words)-2]==chr3.upper()):\n",
    "                counter+=1\n",
    "    \n",
    "    return counter\n",
    "\n",
    "input_str = input(\"Enter the string\")\n",
    "chr3 = input(\"Enter the character\")\n",
    "solution(input_str,chr3)"
   ]
  },
  {
   "cell_type": "markdown",
   "metadata": {},
   "source": [
    "2. Write a Python program to ask user input of a string, then ask user input of what letters they want to remove from the string. User can either put in \"odd\", \"even\" or a number \"n\" that is greater than 2. When user input \"odd\", it will remove the characters which have odd numbers in the sequence of the string. When user input \"even\", it will remove the characters which have even numbers in the sequence of the string. When user input \"n\" number, it will remove the characters which have nth numbers in the sequence of the string. Note that we are talking about the sequence of the letters, so the first letter in a string is number 1, the second is number 2, and so on."
   ]
  },
  {
   "cell_type": "code",
   "execution_count": 13,
   "metadata": {},
   "outputs": [
    {
     "name": "stdout",
     "output_type": "stream",
     "text": [
      "hn te sn rss a an te CIKN fis it h idw"
     ]
    }
   ],
   "source": [
    "\n",
    "def solution(input_str,parameter):\n",
    "    \n",
    "    \n",
    "    input_str = input_str.replace(\",\",\"\")\n",
    "    input_str = input_str.replace(\"!\",\"\")\n",
    "    input_str = input_str.replace(\"—\",\"\")\n",
    "    input_str = input_str.replace(\".\",\"\")\n",
    "    input_str = input_str.replace(\":\",\" \")\n",
    "    input_str = input_str.replace(\";\",\"\")\n",
    "    input_str = input_str.replace(\"-\",\"\")\n",
    "    \n",
    "\n",
    "    if(parameter.isnumeric()):\n",
    "        for i in range(0,len(input_str)):\n",
    "            if (i+1)%int(parameter)==0 and not input_str[i]==' ':\n",
    "                continue\n",
    "            else:\n",
    "                print(input_str[i],end=\"\")\n",
    "            \n",
    "    elif(parameter==\"odd\"):\n",
    "        for i in range(0,len(input_str)):\n",
    "            if (i+1)%2!=0 and not input_str[i]==' ':\n",
    "                continue\n",
    "            else:\n",
    "                print(input_str[i],end=\"\")\n",
    "    else:\n",
    "        for i in range(0,len(input_str)):\n",
    "            if (i+1)%2==0 and not input_str[i]==' ':\n",
    "                continue\n",
    "            else:\n",
    "                print(input_str[i],end=\"\")\n",
    "\n",
    "\n",
    "input_str = input(\"Enter the string\")\n",
    "# chr3 = input(\"Enter the character\")\n",
    "parameter = input(\"Enter the parameter\")\n",
    "solution(input_str,parameter)\n",
    "\n",
    "# When the sun rises at dawn, the CHICKEN flies into the window.\n",
    "# hello world\n",
    "#   h l o \n"
   ]
  },
  {
   "cell_type": "markdown",
   "metadata": {},
   "source": [
    "3. Write a Python program to create a Caesar encryption. Your program will first ask for the input of a secret message, then ask how many places you wish to shift each letter in the alphabet. In the end, your program will produce the shifted secret message as a string. Your program should be able to handle all upper and lower cases, and check if the user inputs are valid. Note: In cryptography, a Caesar cipher, also known as Caesar's cipher, the shift cipher, Caesar's code or Caesar shift, is one of the simplest and most widely known encryption techniques. It is a type of substitution cipher in which each letter in the plaintext is replaced by a letter some fixed number of positions down the alphabet. For example, with a shift of 3, A would be replaced by D, B would become E, and so on. The method is named after Julius Caesar, who used it in his private correspondence. Example: Secret message = \"This is a secret message\" Shift = 5 Each letter is shifted 5 places down in alphabetical order. Secret output: \"ymnx nx f xjhwjy rjxxflj\" Hint: 1, the 26 letters in the alphabet are not indexed, put them into a list and index them first. 2, Think about what to do when the shifted letter goes beyond 26. e.g. letter z shifted by 5?"
   ]
  },
  {
   "cell_type": "code",
   "execution_count": 9,
   "metadata": {},
   "outputs": [
    {
     "name": "stdout",
     "output_type": "stream",
     "text": [
      "VJku ku vjg iqqf Ugpvgpeg"
     ]
    }
   ],
   "source": [
    "input_str = input(\"Enter the string to encrypted\")\n",
    "shift = int(input(\"Enter the number of shift\"))\n",
    "\n",
    "for i in range(len(input_str)):\n",
    "    if(input_str[i]==' '):\n",
    "        print(input_str[i],end=\"\")\n",
    "    elif(input_str[i].isupper() ):\n",
    "        print(chr((ord(input_str[i]) - ord('A') + shift)%26 + ord('A')),end = \"\")\n",
    "    else:\n",
    "        print(chr((ord(input_str[i]) - ord('a') + shift)%26 + ord('a')),end = \"\")\n",
    "\n",
    "    \n",
    "   \n"
   ]
  },
  {
   "cell_type": "markdown",
   "metadata": {},
   "source": [
    "4. Write a Python program to ask how many elements users want to create in a list, then let the user create 2 lists with the number of elements previously entered. Then create and display all combinations of letters, selecting each letter from a different key in a dictionary, and place all these combinations in a new list. Example: How many elements? 2 List 1 = ['a', 'b'] List 2 = ['c','d'] Output: newlist = [ac, ad, bc, bd]"
   ]
  },
  {
   "cell_type": "code",
   "execution_count": 18,
   "metadata": {},
   "outputs": [
    {
     "name": "stdout",
     "output_type": "stream",
     "text": [
      "['ac', 'ad', 'bc', 'bd']\n"
     ]
    }
   ],
   "source": [
    "n = int(input(\"Enter the number of element in list\"))\n",
    "list1 = []\n",
    "list2 = []\n",
    "\n",
    "# some_input1 = input(\"Enter space seperated list 1\")\n",
    "# list1  = some_input1.split()\n",
    "\n",
    "for i in range(n):\n",
    "    list1.append(input(\"Enter the element of list 1\"))\n",
    "for i in range(n):\n",
    "    list2.append(input(\"Enter the element of list 2\"))\n",
    "\n",
    "# some_input2 = input(\"Enter space seperated list 1\")\n",
    "# list2  = some_input2.split()\n",
    "\n",
    "result_list = []\n",
    "\n",
    "for i in list1:\n",
    "    for j in list2:\n",
    "        result_list.append(i+j)\n",
    "\n",
    "print(result_list)"
   ]
  },
  {
   "cell_type": "code",
   "execution_count": null,
   "metadata": {},
   "outputs": [],
   "source": []
  }
 ],
 "metadata": {
  "kernelspec": {
   "display_name": "Python 3",
   "language": "python",
   "name": "python3"
  },
  "language_info": {
   "codemirror_mode": {
    "name": "ipython",
    "version": 3
   },
   "file_extension": ".py",
   "mimetype": "text/x-python",
   "name": "python",
   "nbconvert_exporter": "python",
   "pygments_lexer": "ipython3",
   "version": "3.11.4"
  }
 },
 "nbformat": 4,
 "nbformat_minor": 2
}
