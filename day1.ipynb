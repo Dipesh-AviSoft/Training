{
 "cells": [
  {
   "cell_type": "code",
   "execution_count": null,
   "id": "60688360-18ca-4ba2-b637-b5af49bb14c2",
   "metadata": {},
   "outputs": [],
   "source": [
    "nums = []\n",
    "\n",
    "nums.append(3)\n",
    "nums.append(3.4)\n",
    "nums.append(\"hello\")\n",
    "\n",
    "print(nums)"
   ]
  },
  {
   "cell_type": "code",
   "execution_count": null,
   "id": "37f483ed-2b63-4598-aba8-cadf6be7d3c8",
   "metadata": {},
   "outputs": [],
   "source": [
    "name = input(\"What's your name\")\n",
    "print(\"hii\",name)"
   ]
  },
  {
   "cell_type": "code",
   "execution_count": null,
   "id": "75efad0c-e13f-4511-9bd4-e9e447a2185a",
   "metadata": {},
   "outputs": [],
   "source": [
    "num1 = int(input(\"Enter num1\"))\n",
    "num2 = int(input(\"Enter num2\"))\n",
    "\n",
    "num3 = num1 * num2\n",
    "print(\"Product is:\",num3)"
   ]
  },
  {
   "cell_type": "code",
   "execution_count": null,
   "id": "db86252b-a888-4f18-9303-d00a7eb1dd76",
   "metadata": {},
   "outputs": [],
   "source": [
    "num1 = 34\n",
    "\n",
    "if(num1>34):\n",
    "    print(\"num1 is good\")\n",
    "elif(num1<34):\n",
    "    print(\"num2 is not goooooo....\")\n",
    "else:\n",
    "    print(\"num2 is great\")"
   ]
  },
  {
   "cell_type": "code",
   "execution_count": null,
   "id": "7252a898-6dbe-42b5-ad10-fe15df96f87f",
   "metadata": {},
   "outputs": [],
   "source": [
    "def hello():\n",
    "    print(\"hello\")\n",
    "    print(\"hii\")\n",
    "hello()\n"
   ]
  },
  {
   "cell_type": "code",
   "execution_count": null,
   "id": "5e421d0b-fd57-435a-b1aa-94866176fe81",
   "metadata": {
    "jupyter": {
     "source_hidden": true
    }
   },
   "outputs": [],
   "source": [
    "def getInteger():\n",
    "    result = int(input(\"Enter Integer:\"))\n",
    "    return result\n",
    "\n",
    "def Main():\n",
    "    print(\"Started\")\n",
    "\n",
    "    output = getInteger()\n",
    "    print(output)\n",
    "\n",
    "if __name__ == \"__main__\":\n",
    "    Main()"
   ]
  },
  {
   "cell_type": "code",
   "execution_count": null,
   "id": "1fa2cfbd-196b-4fcf-941d-888e0af3e107",
   "metadata": {},
   "outputs": [],
   "source": [
    "for step in range(5):\n",
    "    print(step)"
   ]
  },
  {
   "cell_type": "code",
   "execution_count": null,
   "id": "28f3b7f8-cce8-4bcf-94a4-3a533aa83d7c",
   "metadata": {},
   "outputs": [],
   "source": [
    "num = int(input(\"Enter a number: \"))\n",
    "print(num, \" \",type(num))"
   ]
  },
  {
   "cell_type": "code",
   "execution_count": null,
   "id": "9b8af7be-d839-4abf-81de-af6a90bf1885",
   "metadata": {},
   "outputs": [],
   "source": [
    "floatNum = float(input(\"Enter a decimal number:\"))\n",
    "print(floatNum, \" \", type(floatNum))"
   ]
  },
  {
   "cell_type": "markdown",
   "id": "ff9ceba4-6b08-40f7-8c89-0e400232af7c",
   "metadata": {},
   "source": []
  },
  {
   "cell_type": "code",
   "execution_count": null,
   "id": "cddeb716-e702-4361-aebd-7fec8128e3bf",
   "metadata": {},
   "outputs": [],
   "source": [
    "def fact(num):\n",
    "    if(num==0 or num==1):\n",
    "        return 1\n",
    "    else:\n",
    "        return num * fact(num-1);\n",
    "\n",
    "num = int(input(\"Enter the number\"))\n",
    "fact(num)"
   ]
  },
  {
   "cell_type": "code",
   "execution_count": null,
   "id": "2b78788f-da7b-4fbf-afec-cae3d01bd1b6",
   "metadata": {},
   "outputs": [],
   "source": [
    "1\n",
    "23\n",
    "456\n",
    "7890\n",
    "\n",
    "\n",
    "\n",
    "1\n",
    "22\n",
    "333\n",
    "4444\n",
    "\n",
    "\n",
    "4321\n",
    "4321\n",
    "4321\n",
    "4321"
   ]
  },
  {
   "cell_type": "code",
   "execution_count": null,
   "id": "1fd85869-8e1c-4759-9373-3a6d3838e00b",
   "metadata": {},
   "outputs": [],
   "source": [
    "row = 4\n",
    "col = 1\n",
    "num = 1;\n",
    "for i in range(0,row):\n",
    "    for j in range(0,col):\n",
    "        print(num, end =' ')\n",
    "        num = (num +1)%10\n",
    "        \n",
    "    col = col +1\n",
    "    print('\\n') "
   ]
  },
  {
   "cell_type": "code",
   "execution_count": null,
   "id": "c5edd8ec-468a-410f-9002-bb6439da0dd2",
   "metadata": {},
   "outputs": [],
   "source": [
    "num = 1\n",
    "row = 4\n",
    "col = 1\n",
    "for i in range(0,row):\n",
    "    for j in range(0,col):\n",
    "        print(num,end=\" \")\n",
    "    num = num +1\n",
    "    col = col +1\n",
    "    print('\\n')"
   ]
  },
  {
   "cell_type": "code",
   "execution_count": null,
   "id": "b78db701-706c-40fe-94ed-45dc51a56ed6",
   "metadata": {},
   "outputs": [],
   "source": [
    "row = 4\n",
    "num = 4\n",
    "temp = num\n",
    "col = 4\n",
    "\n",
    "for i in range(0,row):\n",
    "    for j in range(0,col):\n",
    "        print(num,end='');\n",
    "        num = num-1\n",
    "    print('\\n')\n",
    "    num = temp\n",
    "    "
   ]
  },
  {
   "cell_type": "code",
   "execution_count": 54,
   "id": "25e9709b-f8fd-47a0-a4da-5a818af38645",
   "metadata": {},
   "outputs": [
    {
     "name": "stdout",
     "output_type": "stream",
     "text": [
      "['this', 'is', 'a', 'boy']\n"
     ]
    }
   ],
   "source": [
    "name = \"this is a boy\"\n",
    "print(name.split(\" \"))"
   ]
  },
  {
   "cell_type": "code",
   "execution_count": 65,
   "id": "b8eaaddf-586d-4693-9341-1b2107568f70",
   "metadata": {},
   "outputs": [
    {
     "name": "stdout",
     "output_type": "stream",
     "text": [
      "9\n",
      "9\n"
     ]
    },
    {
     "ename": "NameError",
     "evalue": "name 'addressof' is not defined",
     "output_type": "error",
     "traceback": [
      "\u001b[1;31m---------------------------------------------------------------------------\u001b[0m",
      "\u001b[1;31mNameError\u001b[0m                                 Traceback (most recent call last)",
      "Cell \u001b[1;32mIn[65], line 4\u001b[0m\n\u001b[0;32m      2\u001b[0m \u001b[38;5;28mprint\u001b[39m(a)\n\u001b[0;32m      3\u001b[0m \u001b[38;5;28mprint\u001b[39m(b)\n\u001b[1;32m----> 4\u001b[0m \u001b[38;5;28mprint\u001b[39m(\u001b[43maddressof\u001b[49m(a))\n\u001b[0;32m      5\u001b[0m \u001b[38;5;28mprint\u001b[39m(\u001b[38;5;28mid\u001b[39m(b))\n\u001b[0;32m      6\u001b[0m \u001b[38;5;28mprint\u001b[39m(\u001b[38;5;28mid\u001b[39m(c))\n",
      "\u001b[1;31mNameError\u001b[0m: name 'addressof' is not defined"
     ]
    }
   ],
   "source": [
    "a=b=c=9\n",
    "print(a)\n",
    "print(b)\n",
    "print(addressof(a))\n",
    "print(id(b))\n",
    "print(id(c))"
   ]
  },
  {
   "cell_type": "code",
   "execution_count": 58,
   "id": "53ad30ad-0663-46d3-8b39-1434042b1a7c",
   "metadata": {},
   "outputs": [
    {
     "name": "stdout",
     "output_type": "stream",
     "text": [
      "9\n"
     ]
    }
   ],
   "source": [
    "a,b,c=9,6,5\n",
    "print(a)"
   ]
  },
  {
   "cell_type": "code",
   "execution_count": 66,
   "id": "a47af093-f195-40c0-86dc-fbfe01fd9e9d",
   "metadata": {},
   "outputs": [
    {
     "name": "stdout",
     "output_type": "stream",
     "text": [
      "0x7fff0fcde428\n",
      "0x7fff0fcde428\n"
     ]
    }
   ],
   "source": [
    "a = 9\n",
    "b = 9\n",
    "print(hex(id(a)))\n",
    "print(hex(id(b)))"
   ]
  },
  {
   "cell_type": "code",
   "execution_count": 70,
   "id": "ece90f62-53d3-4393-84b0-9c0e7972b52a",
   "metadata": {},
   "outputs": [
    {
     "ename": "KeyError",
     "evalue": "5",
     "output_type": "error",
     "traceback": [
      "\u001b[1;31m---------------------------------------------------------------------------\u001b[0m",
      "\u001b[1;31mKeyError\u001b[0m                                  Traceback (most recent call last)",
      "Cell \u001b[1;32mIn[70], line 3\u001b[0m\n\u001b[0;32m      1\u001b[0m nums \u001b[38;5;241m=\u001b[39m {}\n\u001b[0;32m      2\u001b[0m nums[\u001b[38;5;124m\"\u001b[39m\u001b[38;5;124mhello\u001b[39m\u001b[38;5;124m\"\u001b[39m]\u001b[38;5;241m=\u001b[39m\u001b[38;5;241m5\u001b[39m\n\u001b[1;32m----> 3\u001b[0m \u001b[38;5;28mprint\u001b[39m(\u001b[43mnums\u001b[49m\u001b[43m[\u001b[49m\u001b[38;5;241;43m5\u001b[39;49m\u001b[43m]\u001b[49m)\n",
      "\u001b[1;31mKeyError\u001b[0m: 5"
     ]
    }
   ],
   "source": [
    "nums = {}\n",
    "nums[\"hello\"]=5\n",
    "print(nums[5])"
   ]
  },
  {
   "cell_type": "code",
   "execution_count": null,
   "id": "b0a6cf51-0e82-4a22-9e9b-7dd186b768dd",
   "metadata": {},
   "outputs": [],
   "source": []
  },
  {
   "cell_type": "code",
   "execution_count": null,
   "id": "0515825c-1b6b-4b46-a64b-f3a081a445e6",
   "metadata": {},
   "outputs": [],
   "source": []
  }
 ],
 "metadata": {
  "kernelspec": {
   "display_name": "Python 3 (ipykernel)",
   "language": "python",
   "name": "python3"
  },
  "language_info": {
   "codemirror_mode": {
    "name": "ipython",
    "version": 3
   },
   "file_extension": ".py",
   "mimetype": "text/x-python",
   "name": "python",
   "nbconvert_exporter": "python",
   "pygments_lexer": "ipython3",
   "version": "3.11.4"
  }
 },
 "nbformat": 4,
 "nbformat_minor": 5
}
