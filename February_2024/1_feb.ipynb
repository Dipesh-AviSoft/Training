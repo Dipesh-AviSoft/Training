{
 "cells": [
  {
   "cell_type": "code",
   "execution_count": 18,
   "id": "1b481209-9170-47b8-974e-94a259b2f717",
   "metadata": {},
   "outputs": [
    {
     "name": "stdin",
     "output_type": "stream",
     "text": [
      "enter the string:  aaba\n",
      "enter the string:  abaa\n"
     ]
    },
    {
     "name": "stdout",
     "output_type": "stream",
     "text": [
      "a a ---- a   a\n",
      "b a ---- a   b\n",
      "aa ba ---- ab   aa\n",
      "True\n"
     ]
    }
   ],
   "source": [
    "\"\"\"\n",
    "\n",
    "1.Similar Strings\n",
    "Problem statement\n",
    "You are given two strings, ‘A’ and ‘B’ each of length ‘N’. Your task is to print 1 if ‘A’ is similar to ‘B’.\n",
    "\n",
    "Note :\n",
    "\n",
    "String ‘A’ is said to be similar to string ‘B’ if and only if \n",
    "1. ‘A’ is equal to ‘B’.\n",
    "2. Divide both ‘A’ and ‘B’ into two – two strings ‘A1’, ‘A2’ , ‘B1’ and ‘B2’ such that both of them('A1' and 'A2') have same size.\n",
    "Then at least one of the following must hold true:\n",
    "   a. ‘A1’ is similar to ‘B1’ and ‘A2’ is similar to ‘B2’.\n",
    "   b. ‘A1’ is similar to ‘B2’ and ‘A2’ is similar to ‘B1’.\n",
    "\n",
    "Sample Input 1 :\n",
    "2\n",
    "aa aa\n",
    "ab ba\n",
    "Sample Output 1 :\n",
    "1\n",
    "1\n",
    "Explanation Of Sample Input 1 :\n",
    "Test Case 1 :  \n",
    "Given A = “aa” and B = “aa” \n",
    "Here A and B are equal. So A is similar to B.\n",
    "\n",
    "\"\"\"\n",
    "\n",
    "def similarstring(a,b):\n",
    "    if (len(a)%2==1):\n",
    "        if a==b:\n",
    "            return True\n",
    "        else:\n",
    "            return False\n",
    "    a1=a[:len(a)//2]\n",
    "    a2=a[len(a)//2:]\n",
    "    b1=b[:len(b)//2]\n",
    "    b2=b[len(b)//2:]\n",
    "\n",
    "    if similarstring(a1,b1)==True and similarstring(a2,b2)==True:\n",
    "        \n",
    "        return True\n",
    "    elif similarstring(a1,b2)==True and similarstring(a2,b1)==True:\n",
    "       \n",
    "        return True\n",
    "    else:\n",
    "        return False\n",
    "        \n",
    "a=input(\"enter the string: \")\n",
    "b=input(\"enter the string: \")\n",
    "print(similarstring(a,b))\n"
   ]
  },
  {
   "cell_type": "code",
   "execution_count": 28,
   "id": "08dd4213-8780-4410-8f1c-aa8875923c48",
   "metadata": {},
   "outputs": [
    {
     "name": "stdin",
     "output_type": "stream",
     "text": [
      "Enter the string kkkkkkkkkkkkkkkkkkkkkkkkkkkkkkkkkkkkkkkkkkgggggggggggggggggggggggggggggggggggggggggggggggg\n"
     ]
    },
    {
     "name": "stdout",
     "output_type": "stream",
     "text": [
      "-1\n"
     ]
    }
   ],
   "source": [
    "\"\"\"\n",
    "2.Distinct Substrings\n",
    "Problem statement\n",
    "You are given a string 'S' of length 'N' consisting of lowercase English letters. You want all substrings\n",
    "of the string 'S' to be distinct. You are allowed to change characters at some positions to some other lowercase English letters.\n",
    "\n",
    "You have to find the minimum number of changes required to make all the substrings of the string distinct or return -1 if you\n",
    "can't make it.\n",
    "\n",
    "A substring is a contiguous subsegment of a string. For example, \"acab\" is a substring of \"abacaba\" (it starts in position 3 and\n",
    "ends in position 6), but \"aa\" or \"d\" aren't substrings of this string.\n",
    "\n",
    "\n",
    "Hint:\n",
    "Think about substrings of length one.\n",
    "For Example:-\n",
    "Let 'N' = 3, 'S' = \"aac\".\n",
    "You can change characters at index 2 to some other character (1-based indexing).\n",
    "Like 'S' = \"abc\".\n",
    "All substrings of 'S' are \"a\", \"b\", \"c\", \"ab\", \"bc\", \"abc\", all of which are distinct.\n",
    "So the answer is 1.\n",
    "Sample Input 1:-\n",
    "2\n",
    "3\n",
    "abc\n",
    "4\n",
    "xxyz\n",
    "Sample Output 1:-\n",
    "0\n",
    "1\n",
    "Explanation of sample input 1:-\n",
    "First test case:-\n",
    "No changes are required.\n",
    "So the answer is 0.\n",
    "\n",
    "Second test case:-\n",
    "You can change the character at index 1 to some other character (1-based indexing).\n",
    "Like 'S'=\"bxyz\".\n",
    "So the answer is 1.\"\"\"\n",
    "\n",
    "\n",
    "str1 = input(\"Enter the string\")\n",
    "changes = 0\n",
    "\n",
    "if(len(str1)>26):\n",
    "    print(-1)\n",
    "    \n",
    "else:\n",
    "    s = set()\n",
    "    for i in str1:\n",
    "        if i in s:\n",
    "            continue\n",
    "        else:\n",
    "            changes+=1\n",
    "            s.add(i)\n",
    "    \n",
    "    print(len(str1)-changes)\n",
    "\n"
   ]
  },
  {
   "cell_type": "code",
   "execution_count": 24,
   "id": "269db142-6b5a-469f-846b-831b2f588585",
   "metadata": {},
   "outputs": [
    {
     "name": "stdin",
     "output_type": "stream",
     "text": [
      "Enter first number 17281\n",
      "Enter second number 91276\n"
     ]
    },
    {
     "name": "stdout",
     "output_type": "stream",
     "text": [
      "1577340556\n"
     ]
    }
   ],
   "source": [
    "\"\"\"\n",
    "\n",
    "4.Multiply Strings\n",
    "Problem statement\n",
    "You are given two big numbers ‘A’ and ‘B’ as strings. Your task is to find the product of both the numbers.\n",
    "\n",
    "Note:\n",
    "\n",
    "There are no leading zeros in both the strings, except the number 0 itself.\n",
    "Do not use any built-in Big Integer Library.\n",
    "For Example:\n",
    "If, A = 123, and B = 456.\n",
    "So the product of both numbers will be 56088.\n",
    "\n",
    "Sample Input 1:\n",
    "2\n",
    "17281 \n",
    "91276\n",
    "123\n",
    "456\n",
    "Sample Output 1:\n",
    "1577340556\n",
    "56088    \n",
    "Explanation for sample 1:\n",
    "For the first test case:\n",
    "A=17281, and B=91276\n",
    "The product of both numbers is 1577340556.\n",
    "\n",
    "For the second test case:\n",
    "A=123, B=456\n",
    "The product of both numbers is 56088\n",
    "\n",
    "\"\"\"\n",
    "\n",
    "str1 = input(\"Enter first number\")\n",
    "str2 = input(\"Enter second number\")\n",
    "\n",
    "\n",
    "num1 = 0\n",
    "num2 = 0\n",
    "for i in str1:\n",
    "    num1 = num1*10+ (ord(i)-ord('0'))\n",
    "for i in str2:\n",
    "    num2 = num2*10+ (ord(i)-ord('0'))\n",
    "sum = 0\n",
    "while(num2!=0):\n",
    "    sum = sum + num1\n",
    "    num2-=1\n",
    "print(sum)\n",
    "\n",
    "    \n",
    "    \n"
   ]
  },
  {
   "cell_type": "code",
   "execution_count": 43,
   "id": "1f482a8e-6e2c-4eec-8404-f25e25593c06",
   "metadata": {},
   "outputs": [
    {
     "name": "stdin",
     "output_type": "stream",
     "text": [
      " (()()()\n"
     ]
    },
    {
     "name": "stdout",
     "output_type": "stream",
     "text": [
      "1\n"
     ]
    }
   ],
   "source": [
    "\"\"\"\n",
    "3.Possible Balanced Strings\n",
    "Problem statement\n",
    "Avisoft has been given a string S, consisting of only the '(' or ')' parenthesis. The string is not balanced, \n",
    "and to make the string balanced, he can remove one or more parentheses. He needs to print all possible balanced \n",
    "strings that can be formed from the given string by removing the minimum number of parentheses.\n",
    "\n",
    "Note:\n",
    "\n",
    "Print only those distinct strings that can be formed by removing the minimum number of parentheses.\n",
    "\n",
    "If the string is already balanced, return the original string.\n",
    "For example:\n",
    "\n",
    "(()()()\n",
    "\n",
    "Expected strings are:\n",
    "\n",
    "[ (()()), (())(), ()()() ]\n",
    "\n",
    "Sample Input 1:\n",
    "1\n",
    "(()()() \n",
    "Sample Output 1:\n",
    "1\n",
    "Explanation Of Sample Input 1:\n",
    "Test case 1:\n",
    "For the first test case of sample output 1, three different strings can be created by removing one extra parenthesis.\n",
    "\n",
    "\"\"\"\n",
    "\n",
    "str1 = input()\n",
    "stack = []\n",
    "stack.append(str1[0])\n",
    "\n",
    "for i in range(1,len(str1)):\n",
    "    if(stack):\n",
    "        if stack[-1]=='(' and str1[i]==')':\n",
    "            stack.pop()\n",
    "        else:\n",
    "            stack.append(str1[i])\n",
    "    else:\n",
    "        stack.append(str1[i])\n",
    "\n",
    "if(len(stack)>0):\n",
    "    print(len(stack))\n",
    "    \n",
    "    \n",
    "\n",
    "\n",
    "\n",
    "\n"
   ]
  },
  {
   "cell_type": "code",
   "execution_count": 32,
   "id": "df42fbaf-7470-4d5b-bd36-23e57c604596",
   "metadata": {},
   "outputs": [
    {
     "name": "stdin",
     "output_type": "stream",
     "text": [
      "Enter the number 2\n"
     ]
    },
    {
     "name": "stdout",
     "output_type": "stream",
     "text": [
      "['aa', 'ab', 'ac', 'ba', 'bc', 'ca', 'cb', 'cc']\n",
      "8\n"
     ]
    }
   ],
   "source": [
    "\"\"\"\n",
    "5. Total Strings\n",
    "\n",
    "Problem statement\n",
    "You are given a positive integer 'N'. Your task is to find the number of strings of length ‘N’ that can be formed using only \n",
    "the characters ‘a’, ‘b’ and ‘c’. The strings formed should be such that the number of ‘b’ and ‘c’ in the string is at most 1 and 2,\n",
    "respectively.\n",
    "\n",
    "Example:\n",
    "Let’s say N = 2. The strings of length 2, which satisfy the given constraints are: “aa”, “ab”, “ac”, “ba”, “bc”, “ca”, “cb”, “cc”.\n",
    "Hence, the output is 8.\n",
    "\n",
    "Sample Input 1:\n",
    "2\n",
    "2\n",
    "3\n",
    "Sample Output 1:\n",
    "8\n",
    "19\n",
    "Explanation 1:\n",
    "For the first test case, refer to the example explained before.\n",
    "\n",
    "For the second test case, N = 3. The strings of length 3, which satisfy the given constraints are: “aaa”, “aab”, “aac”, “aba”,\n",
    "“abc”, “aca”, “acb”, “acc”, and so on. There are a total of 19 possible strings.\n",
    "\n",
    "\"\"\"\n",
    "\n",
    "\n",
    "def solution(list1,n,string,index,b_count, c_count):\n",
    "    if(index == n):\n",
    "        list1.append(string)\n",
    "        return\n",
    "    else:\n",
    "        solution(list1,n,string+'a',index+1,b_count,c_count)\n",
    "        if(b_count<1):\n",
    "            solution(list1,n,string+'b',index+1,b_count+1,c_count)\n",
    "        if(c_count<2):\n",
    "            solution(list1,n,string+'c',index+1,b_count,c_count+1)\n",
    "\n",
    "n = int(input(\"Enter the number\"))\n",
    "list1 = []\n",
    "b_count = 0\n",
    "c_count = 0\n",
    "\n",
    "solution(list1,n,\"\",0,b_count, c_count)\n",
    "print(list1)\n",
    "print(len(list1))\n",
    "        "
   ]
  },
  {
   "cell_type": "code",
   "execution_count": null,
   "id": "320110a1-074f-4bcd-9617-76206a466d3c",
   "metadata": {},
   "outputs": [],
   "source": []
  },
  {
   "cell_type": "code",
   "execution_count": null,
   "id": "1789e8b4-619e-416c-a62a-7377966fc518",
   "metadata": {},
   "outputs": [],
   "source": []
  }
 ],
 "metadata": {
  "kernelspec": {
   "display_name": "Python 3 (ipykernel)",
   "language": "python",
   "name": "python3"
  },
  "language_info": {
   "codemirror_mode": {
    "name": "ipython",
    "version": 3
   },
   "file_extension": ".py",
   "mimetype": "text/x-python",
   "name": "python",
   "nbconvert_exporter": "python",
   "pygments_lexer": "ipython3",
   "version": "3.11.4"
  }
 },
 "nbformat": 4,
 "nbformat_minor": 5
}
