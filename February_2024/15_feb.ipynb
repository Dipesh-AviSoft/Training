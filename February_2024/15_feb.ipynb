{
 "cells": [
  {
   "cell_type": "code",
   "execution_count": 3,
   "metadata": {},
   "outputs": [
    {
     "name": "stdout",
     "output_type": "stream",
     "text": [
      "1.26.2\n",
      "numpy\n"
     ]
    }
   ],
   "source": [
    "import numpy as np\n",
    "\n",
    "print(np.__version__)\n",
    "print(np.__package__)\n"
   ]
  },
  {
   "cell_type": "code",
   "execution_count": 6,
   "metadata": {},
   "outputs": [
    {
     "name": "stdout",
     "output_type": "stream",
     "text": [
      "add(x1, x2, /, out=None, *, where=True, casting='same_kind', order='K', dtype=None, subok=True[, signature, extobj])\n",
      "\n",
      "Add arguments element-wise.\n",
      "\n",
      "Parameters\n",
      "----------\n",
      "x1, x2 : array_like\n",
      "    The arrays to be added.\n",
      "    If ``x1.shape != x2.shape``, they must be broadcastable to a common\n",
      "    shape (which becomes the shape of the output).\n",
      "out : ndarray, None, or tuple of ndarray and None, optional\n",
      "    A location into which the result is stored. If provided, it must have\n",
      "    a shape that the inputs broadcast to. If not provided or None,\n",
      "    a freshly-allocated array is returned. A tuple (possible only as a\n",
      "    keyword argument) must have length equal to the number of outputs.\n",
      "where : array_like, optional\n",
      "    This condition is broadcast over the input. At locations where the\n",
      "    condition is True, the `out` array will be set to the ufunc result.\n",
      "    Elsewhere, the `out` array will retain its original value.\n",
      "    Note that if an uninitialized `out` array is created via the default\n",
      "    ``out=None``, locations within it where the condition is False will\n",
      "    remain uninitialized.\n",
      "**kwargs\n",
      "    For other keyword-only arguments, see the\n",
      "    :ref:`ufunc docs <ufuncs.kwargs>`.\n",
      "\n",
      "Returns\n",
      "-------\n",
      "add : ndarray or scalar\n",
      "    The sum of `x1` and `x2`, element-wise.\n",
      "    This is a scalar if both `x1` and `x2` are scalars.\n",
      "\n",
      "Notes\n",
      "-----\n",
      "Equivalent to `x1` + `x2` in terms of array broadcasting.\n",
      "\n",
      "Examples\n",
      "--------\n",
      ">>> np.add(1.0, 4.0)\n",
      "5.0\n",
      ">>> x1 = np.arange(9.0).reshape((3, 3))\n",
      ">>> x2 = np.arange(3.0)\n",
      ">>> np.add(x1, x2)\n",
      "array([[  0.,   2.,   4.],\n",
      "       [  3.,   5.,   7.],\n",
      "       [  6.,   8.,  10.]])\n",
      "\n",
      "The ``+`` operator can be used as a shorthand for ``np.add`` on ndarrays.\n",
      "\n",
      ">>> x1 = np.arange(9.0).reshape((3, 3))\n",
      ">>> x2 = np.arange(3.0)\n",
      ">>> x1 + x2\n",
      "array([[ 0.,  2.,  4.],\n",
      "       [ 3.,  5.,  7.],\n",
      "       [ 6.,  8., 10.]])\n",
      "None\n"
     ]
    }
   ],
   "source": [
    "print(np.info(np.add))"
   ]
  },
  {
   "cell_type": "code",
   "execution_count": 22,
   "metadata": {},
   "outputs": [
    {
     "name": "stdout",
     "output_type": "stream",
     "text": [
      "False\n"
     ]
    }
   ],
   "source": [
    "a = np.array([0,0,0,0,0])\n",
    "print(np.all(a))\n"
   ]
  },
  {
   "cell_type": "code",
   "execution_count": 23,
   "metadata": {},
   "outputs": [
    {
     "name": "stdout",
     "output_type": "stream",
     "text": [
      "[6 6 6 6 6]\n"
     ]
    }
   ],
   "source": [
    "a = np.array([1,2,3,4,5])\n",
    "b = np.array([5,4,3,2,1])\n",
    "\n",
    "print(np.add(a,b,dtype=int))"
   ]
  },
  {
   "cell_type": "code",
   "execution_count": null,
   "metadata": {},
   "outputs": [],
   "source": []
  },
  {
   "cell_type": "code",
   "execution_count": 32,
   "metadata": {},
   "outputs": [
    {
     "name": "stdout",
     "output_type": "stream",
     "text": [
      "[ 0  1  2  3  4  5  6  8  9 10 11 12 13 15]\n"
     ]
    }
   ],
   "source": [
    "print(np.linspace(0,15,14,dtype=int))"
   ]
  },
  {
   "cell_type": "code",
   "execution_count": 48,
   "metadata": {},
   "outputs": [
    {
     "name": "stdout",
     "output_type": "stream",
     "text": [
      "[ True  True False False]\n",
      "[False False False  True]\n",
      "[False False  True False]\n",
      "[10. 20. inf]\n"
     ]
    }
   ],
   "source": [
    "a = np.array([10,20,np.nan,np.inf])\n",
    "print(np.isfinite(a))\n",
    "print(np.isinf(a))\n",
    "print(np.isnan(a))\n",
    "print(a[np.logical_not(np.isnan(a))])"
   ]
  },
  {
   "cell_type": "code",
   "execution_count": 49,
   "metadata": {},
   "outputs": [
    {
     "name": "stdout",
     "output_type": "stream",
     "text": [
      " isscalar(element)\n",
      "\n",
      "Returns True if the type of `element` is a scalar type.\n",
      "\n",
      "Parameters\n",
      "----------\n",
      "element : any\n",
      "    Input argument, can be of any type and shape.\n",
      "\n",
      "Returns\n",
      "-------\n",
      "val : bool\n",
      "    True if `element` is a scalar type, False if it is not.\n",
      "\n",
      "See Also\n",
      "--------\n",
      "ndim : Get the number of dimensions of an array\n",
      "\n",
      "Notes\n",
      "-----\n",
      "If you need a stricter way to identify a *numerical* scalar, use\n",
      "``isinstance(x, numbers.Number)``, as that returns ``False`` for most\n",
      "non-numerical elements such as strings.\n",
      "\n",
      "In most cases ``np.ndim(x) == 0`` should be used instead of this function,\n",
      "as that will also return true for 0d arrays. This is how numpy overloads\n",
      "functions in the style of the ``dx`` arguments to `gradient` and the ``bins``\n",
      "argument to `histogram`. Some key differences:\n",
      "\n",
      "+--------------------------------------+---------------+-------------------+\n",
      "| x                                    |``isscalar(x)``|``np.ndim(x) == 0``|\n",
      "+======================================+===============+===================+\n",
      "| PEP 3141 numeric objects (including  | ``True``      | ``True``          |\n",
      "| builtins)                            |               |                   |\n",
      "+--------------------------------------+---------------+-------------------+\n",
      "| builtin string and buffer objects    | ``True``      | ``True``          |\n",
      "+--------------------------------------+---------------+-------------------+\n",
      "| other builtin objects, like          | ``False``     | ``True``          |\n",
      "| `pathlib.Path`, `Exception`,         |               |                   |\n",
      "| the result of `re.compile`           |               |                   |\n",
      "+--------------------------------------+---------------+-------------------+\n",
      "| third-party objects like             | ``False``     | ``True``          |\n",
      "| `matplotlib.figure.Figure`           |               |                   |\n",
      "+--------------------------------------+---------------+-------------------+\n",
      "| zero-dimensional numpy arrays        | ``False``     | ``True``          |\n",
      "+--------------------------------------+---------------+-------------------+\n",
      "| other numpy arrays                   | ``False``     | ``False``         |\n",
      "+--------------------------------------+---------------+-------------------+\n",
      "| `list`, `tuple`, and other sequence  | ``False``     | ``False``         |\n",
      "| objects                              |               |                   |\n",
      "+--------------------------------------+---------------+-------------------+\n",
      "\n",
      "Examples\n",
      "--------\n",
      ">>> np.isscalar(3.1)\n",
      "True\n",
      ">>> np.isscalar(np.array(3.1))\n",
      "False\n",
      ">>> np.isscalar([3.1])\n",
      "False\n",
      ">>> np.isscalar(False)\n",
      "True\n",
      ">>> np.isscalar('numpy')\n",
      "True\n",
      "\n",
      "NumPy supports PEP 3141 numbers:\n",
      "\n",
      ">>> from fractions import Fraction\n",
      ">>> np.isscalar(Fraction(5, 17))\n",
      "True\n",
      ">>> from numbers import Number\n",
      ">>> np.isscalar(Number())\n",
      "True\n",
      "None\n"
     ]
    }
   ],
   "source": [
    "print(np.info(np.isscalar))"
   ]
  },
  {
   "cell_type": "code",
   "execution_count": 63,
   "metadata": {},
   "outputs": [
    {
     "name": "stdout",
     "output_type": "stream",
     "text": [
      "True\n"
     ]
    }
   ],
   "source": [
    "print(np.allclose([1,2.21111],[1,2.211101]))"
   ]
  },
  {
   "cell_type": "code",
   "execution_count": 70,
   "metadata": {},
   "outputs": [
    {
     "name": "stdout",
     "output_type": "stream",
     "text": [
      "[ True False]\n",
      "[False  True]\n",
      "[False  True]\n"
     ]
    }
   ],
   "source": [
    "x = np.array([3,5])\n",
    "y = np.array([2,5])\n",
    "\n",
    "print(np.greater(x,y))\n",
    "print(np.equal(x,y))\n",
    "print(np.less_equal(x,y))"
   ]
  },
  {
   "cell_type": "code",
   "execution_count": 74,
   "metadata": {},
   "outputs": [
    {
     "name": "stdout",
     "output_type": "stream",
     "text": [
      "16\n"
     ]
    }
   ],
   "source": [
    "x = np.array([1,7,13,105])\n",
    "print(x.size*x.itemsize)"
   ]
  },
  {
   "cell_type": "code",
   "execution_count": 78,
   "metadata": {},
   "outputs": [
    {
     "name": "stdout",
     "output_type": "stream",
     "text": [
      "[0 0 0 0 0 0 0 0 0 0]\n",
      "[1 1 1 1 1 1 1 1 1 1]\n"
     ]
    }
   ],
   "source": [
    "array = np.zeros(10,dtype=int)\n",
    "print(array)\n",
    "array = np.ones(10,dtype=int)\n",
    "print(array)\n"
   ]
  },
  {
   "cell_type": "code",
   "execution_count": 80,
   "metadata": {},
   "outputs": [
    {
     "name": "stdout",
     "output_type": "stream",
     "text": [
      " matrix(data, dtype=None, copy=True)\n",
      "\n",
      "matrix(data, dtype=None, copy=True)\n",
      "\n",
      ".. note:: It is no longer recommended to use this class, even for linear\n",
      "          algebra. Instead use regular arrays. The class may be removed\n",
      "          in the future.\n",
      "\n",
      "Returns a matrix from an array-like object, or from a string of data.\n",
      "A matrix is a specialized 2-D array that retains its 2-D nature\n",
      "through operations.  It has certain special operators, such as ``*``\n",
      "(matrix multiplication) and ``**`` (matrix power).\n",
      "\n",
      "Parameters\n",
      "----------\n",
      "data : array_like or string\n",
      "   If `data` is a string, it is interpreted as a matrix with commas\n",
      "   or spaces separating columns, and semicolons separating rows.\n",
      "dtype : data-type\n",
      "   Data-type of the output matrix.\n",
      "copy : bool\n",
      "   If `data` is already an `ndarray`, then this flag determines\n",
      "   whether the data is copied (the default), or whether a view is\n",
      "   constructed.\n",
      "\n",
      "See Also\n",
      "--------\n",
      "array\n",
      "\n",
      "Examples\n",
      "--------\n",
      ">>> a = np.matrix('1 2; 3 4')\n",
      ">>> a\n",
      "matrix([[1, 2],\n",
      "        [3, 4]])\n",
      "\n",
      ">>> np.matrix([[1, 2], [3, 4]])\n",
      "matrix([[1, 2],\n",
      "        [3, 4]])\n",
      "\n",
      "\n",
      "Methods:\n",
      "\n",
      "  all  --  Test whether all matrix elements along a given axis evaluate to True.\n",
      "  any  --  Test whether any array element along a given axis evaluates to True.\n",
      "  argmax  --  Indexes of the maximum values along an axis.\n",
      "  argmin  --  Indexes of the minimum values along an axis.\n",
      "  argpartition  --  a.argpartition(kth, axis=-1, kind='introselect', order=None)\n",
      "  argsort  --  a.argsort(axis=-1, kind=None, order=None)\n",
      "  astype  --  a.astype(dtype, order='K', casting='unsafe', subok=True, copy=True)\n",
      "  byteswap  --  a.byteswap(inplace=False)\n",
      "  choose  --  a.choose(choices, out=None, mode='raise')\n",
      "  clip  --  a.clip(min=None, max=None, out=None, **kwargs)\n",
      "  compress  --  a.compress(condition, axis=None, out=None)\n",
      "  conj  --  a.conj()\n",
      "  conjugate  --  a.conjugate()\n",
      "  copy  --  a.copy(order='C')\n",
      "  cumprod  --  a.cumprod(axis=None, dtype=None, out=None)\n",
      "  cumsum  --  a.cumsum(axis=None, dtype=None, out=None)\n",
      "  diagonal  --  a.diagonal(offset=0, axis1=0, axis2=1)\n",
      "  dot  --  None\n",
      "  dump  --  a.dump(file)\n",
      "  dumps  --  a.dumps()\n",
      "  fill  --  a.fill(value)\n",
      "  flatten  --  Return a flattened copy of the matrix.\n",
      "  getA  --  Return `self` as an `ndarray` object.\n",
      "  getA1  --  Return `self` as a flattened `ndarray`.\n",
      "  getH  --  Returns the (complex) conjugate transpose of `self`.\n",
      "  getI  --  Returns the (multiplicative) inverse of invertible `self`.\n",
      "  getT  --  Returns the transpose of the matrix.\n",
      "  getfield  --  a.getfield(dtype, offset=0)\n",
      "  item  --  a.item(*args)\n",
      "  itemset  --  a.itemset(*args)\n",
      "  max  --  Return the maximum value along an axis.\n",
      "  mean  --  Returns the average of the matrix elements along the given axis.\n",
      "  min  --  Return the minimum value along an axis.\n",
      "  newbyteorder  --  arr.newbyteorder(new_order='S', /)\n",
      "  nonzero  --  a.nonzero()\n",
      "  partition  --  a.partition(kth, axis=-1, kind='introselect', order=None)\n",
      "  prod  --  Return the product of the array elements over the given axis.\n",
      "  ptp  --  Peak-to-peak (maximum - minimum) value along the given axis.\n",
      "  put  --  a.put(indices, values, mode='raise')\n",
      "  ravel  --  Return a flattened matrix.\n",
      "  repeat  --  a.repeat(repeats, axis=None)\n",
      "  reshape  --  a.reshape(shape, order='C')\n",
      "  resize  --  a.resize(new_shape, refcheck=True)\n",
      "  round  --  a.round(decimals=0, out=None)\n",
      "  searchsorted  --  a.searchsorted(v, side='left', sorter=None)\n",
      "  setfield  --  a.setfield(val, dtype, offset=0)\n",
      "  setflags  --  a.setflags(write=None, align=None, uic=None)\n",
      "  sort  --  a.sort(axis=-1, kind=None, order=None)\n",
      "  squeeze  --  Return a possibly reshaped matrix.\n",
      "  std  --  Return the standard deviation of the array elements along the given axis.\n",
      "  sum  --  Returns the sum of the matrix elements, along the given axis.\n",
      "  swapaxes  --  a.swapaxes(axis1, axis2)\n",
      "  take  --  a.take(indices, axis=None, out=None, mode='raise')\n",
      "  tobytes  --  a.tobytes(order='C')\n",
      "  tofile  --  a.tofile(fid, sep=\"\", format=\"%s\")\n",
      "  tolist  --  Return the matrix as a (possibly nested) list.\n",
      "  tostring  --  a.tostring(order='C')\n",
      "  trace  --  a.trace(offset=0, axis1=0, axis2=1, dtype=None, out=None)\n",
      "  transpose  --  a.transpose(*axes)\n",
      "  var  --  Returns the variance of the matrix elements, along the given axis.\n",
      "  view  --  a.view([dtype][, type])\n",
      "None\n"
     ]
    }
   ],
   "source": [
    "print(np.info(np.matrix))"
   ]
  },
  {
   "cell_type": "code",
   "execution_count": 162,
   "metadata": {},
   "outputs": [
    {
     "name": "stdout",
     "output_type": "stream",
     "text": [
      "[0 0 0]\n",
      "[1 1 1]\n",
      "[0 0 0]\n"
     ]
    }
   ],
   "source": [
    "n = int(input(\"Enter the size of matrix\"))\n",
    "a = np.zeros((n,n),dtype=int)\n",
    "a[1][0] = 1\n",
    "a[1][1] = 1\n",
    "a[1][2] = 1\n",
    "# print(a)\n",
    "for i in a:\n",
    "    print(i) "
   ]
  },
  {
   "cell_type": "code",
   "execution_count": 177,
   "metadata": {},
   "outputs": [
    {
     "name": "stdout",
     "output_type": "stream",
     "text": [
      "[[0 0 0 0]\n",
      " [0 3 3 0]\n",
      " [0 0 0 0]]\n"
     ]
    }
   ],
   "source": [
    "a = np.zeros(shape=(3,4),dtype='int')\n",
    "\n",
    "a[1:2:1  ,  1:3:1] = 3\n",
    "print(a)\n"
   ]
  },
  {
   "cell_type": "code",
   "execution_count": 179,
   "metadata": {},
   "outputs": [
    {
     "name": "stdout",
     "output_type": "stream",
     "text": [
      "[11 10  9  8  7  6  5  4  3  2]\n"
     ]
    }
   ],
   "source": [
    "a = np.arange(2,12)\n",
    "a = a[::-1]\n",
    "print(a)"
   ]
  },
  {
   "cell_type": "code",
   "execution_count": 181,
   "metadata": {},
   "outputs": [
    {
     "name": "stdout",
     "output_type": "stream",
     "text": [
      "[1. 2. 3. 4. 5. 6. 7. 8.]\n"
     ]
    }
   ],
   "source": [
    "a = [1,2,3,4,5,6,7,8]\n",
    "a = np.asfarray(a)\n",
    "print(a)"
   ]
  },
  {
   "cell_type": "code",
   "execution_count": 190,
   "metadata": {},
   "outputs": [
    {
     "name": "stdout",
     "output_type": "stream",
     "text": [
      "[[1 2 3]\n",
      " [4 5 6]\n",
      " [7 8 9]]\n",
      "------------------------\n",
      "[[7 8 9]\n",
      " [4 5 6]\n",
      " [1 2 3]]\n",
      "------------------------\n",
      "[[3 2 1]\n",
      " [6 5 4]\n",
      " [9 8 7]]\n",
      "------------------------\n",
      "[[9 8 7]\n",
      " [6 5 4]\n",
      " [3 2 1]]\n"
     ]
    }
   ],
   "source": [
    "a = np.array([1,2,3,4,5,6,7,8,9]).reshape(3,3)\n",
    "\n",
    "print(a[::1,::1])\n",
    "print(\"------------------------\")\n",
    "print(a[::-1,::1])\n",
    "print(\"------------------------\")\n",
    "print(a[::1,::-1])\n",
    "print(\"------------------------\")\n",
    "print(a[::-1,::-1])"
   ]
  },
  {
   "cell_type": "code",
   "execution_count": 214,
   "metadata": {},
   "outputs": [
    {
     "name": "stdout",
     "output_type": "stream",
     "text": [
      "[[1 1 1 1]\n",
      " [1 0 0 1]\n",
      " [1 0 0 1]\n",
      " [1 1 1 1]]\n"
     ]
    }
   ],
   "source": [
    "a = np.ones(shape=(4,4),dtype=\"int\")\n",
    "a[1:-1:1 , 1:-1:1 ]=0\n",
    "print(a)"
   ]
  },
  {
   "cell_type": "code",
   "execution_count": 218,
   "metadata": {},
   "outputs": [
    {
     "name": "stdout",
     "output_type": "stream",
     "text": [
      "[[0 1 0 1 0 1 0 1]\n",
      " [1 0 1 0 1 0 1 0]\n",
      " [0 1 0 1 0 1 0 1]\n",
      " [1 0 1 0 1 0 1 0]\n",
      " [0 1 0 1 0 1 0 1]\n",
      " [1 0 1 0 1 0 1 0]\n",
      " [0 1 0 1 0 1 0 1]\n",
      " [1 0 1 0 1 0 1 0]]\n"
     ]
    }
   ],
   "source": [
    "a = np.ones(shape=(8,8),dtype=\"int\")\n",
    "a[::2 , ::2 ]=0\n",
    "a[1::2 , 1::2 ]=0\n",
    "print(a)"
   ]
  },
  {
   "cell_type": "code",
   "execution_count": 220,
   "metadata": {},
   "outputs": [
    {
     "name": "stdout",
     "output_type": "stream",
     "text": [
      "[1 2 3 4 5 6 7 8 9]\n",
      "[[8 4 6]\n",
      " [1 2 3]]\n"
     ]
    }
   ],
   "source": [
    "arr = [1,2,3,4,5,6,7,8,9]\n",
    "a = np.asarray(arr)\n",
    "print(a)\n",
    "\n",
    "my_tuple = ([8,4,6],[1,2,3])\n",
    "print(np.asarray(my_tuple))"
   ]
  },
  {
   "cell_type": "code",
   "execution_count": 228,
   "metadata": {},
   "outputs": [
    {
     "name": "stdout",
     "output_type": "stream",
     "text": [
      "[[1.01855798e-312 1.10343781e-312 1.01855798e-312 9.54898106e-313]\n",
      " [1.12465777e-312 1.03977794e-312 1.23075756e-312 1.01855798e-312]\n",
      " [1.12465777e-312 9.76118064e-313 1.20953760e-312 1.90979621e-312]]\n",
      "[[6 6 6]\n",
      " [6 6 6]\n",
      " [6 6 6]]\n"
     ]
    }
   ],
   "source": [
    "a = np.empty((3,4))\n",
    "print(a)\n",
    "a = np.full((3,3),6)\n",
    "print(a)"
   ]
  },
  {
   "cell_type": "code",
   "execution_count": 236,
   "metadata": {},
   "outputs": [
    {
     "name": "stdout",
     "output_type": "stream",
     "text": [
      "[-17.78 -11.11   7.34   1.11  37.73   0.  ]\n"
     ]
    }
   ],
   "source": [
    "a = [0, 12, 45.21, 34, 99.91, 32]\n",
    "a = np.asfarray(a)\n",
    "print(np.round((5*(a-32)/9),2))"
   ]
  },
  {
   "cell_type": "code",
   "execution_count": 242,
   "metadata": {},
   "outputs": [
    {
     "name": "stdout",
     "output_type": "stream",
     "text": [
      "[ True False False  True False]\n",
      "[10 40]\n"
     ]
    }
   ],
   "source": [
    "array1 = np.array([0, 10, 20, 40, 60])\n",
    "array2 = np.array([0,40])\n",
    "print(np.in1d(array1,array2))\n",
    "\n",
    "array1 = np.array([0, 10, 20, 40, 60])\n",
    "array2 = np.array([10,30,40])\n",
    "print(array1[np.in1d(array1,array2)])"
   ]
  },
  {
   "cell_type": "code",
   "execution_count": 244,
   "metadata": {},
   "outputs": [
    {
     "name": "stdout",
     "output_type": "stream",
     "text": [
      "[10 20 40]\n"
     ]
    }
   ],
   "source": [
    "array1 = np.array([10, 10,10,20,20, 20, 40, 40,40])\n",
    "\n",
    "print(np.unique(array1))"
   ]
  },
  {
   "cell_type": "code",
   "execution_count": 248,
   "metadata": {},
   "outputs": [
    {
     "name": "stdout",
     "output_type": "stream",
     "text": [
      "[ 0 20 40 60]\n"
     ]
    }
   ],
   "source": [
    "array1 = np.array([0, 10, 20, 40, 60])\n",
    "array2 = np.array([10,30])\n",
    "print(np.setdiff1d(array1,array2))"
   ]
  },
  {
   "cell_type": "code",
   "execution_count": 250,
   "metadata": {},
   "outputs": [
    {
     "name": "stdout",
     "output_type": "stream",
     "text": [
      "[ 0 40 60]\n"
     ]
    }
   ],
   "source": [
    "array1 = np.array([0, 10, 20, 40, 60])\n",
    "array2 = np.array([10,20])\n",
    "print(np.setxor1d(array1,array2))"
   ]
  },
  {
   "cell_type": "code",
   "execution_count": 253,
   "metadata": {},
   "outputs": [
    {
     "name": "stdout",
     "output_type": "stream",
     "text": [
      "True\n"
     ]
    }
   ],
   "source": [
    "array1 = np.array([12, 10, 20, 40, 60])\n",
    "print(np.all(array1))"
   ]
  },
  {
   "cell_type": "code",
   "execution_count": 256,
   "metadata": {},
   "outputs": [
    {
     "name": "stdout",
     "output_type": "stream",
     "text": [
      "[1 2 3 4 1 2 3 4 1 2 3 4]\n"
     ]
    }
   ],
   "source": [
    "arr = [1,2,3,4]\n",
    "print(np.tile(arr,3))"
   ]
  },
  {
   "cell_type": "code",
   "execution_count": 267,
   "metadata": {},
   "outputs": [
    {
     "name": "stdout",
     "output_type": "stream",
     "text": [
      "[[1 0 0 0 0 0 0 0 0]\n",
      " [0 2 0 0 0 0 0 0 0]\n",
      " [0 0 3 0 0 0 0 0 0]\n",
      " [0 0 0 4 0 0 0 0 0]\n",
      " [0 0 0 0 5 0 0 0 0]\n",
      " [0 0 0 0 0 6 0 0 0]\n",
      " [0 0 0 0 0 0 7 0 0]\n",
      " [0 0 0 0 0 0 0 8 0]\n",
      " [0 0 0 0 0 0 0 0 9]]\n"
     ]
    }
   ],
   "source": [
    "x = np.diagflat([1,2,3,4,5,6,7,8,9])\n",
    "print(x)\n",
    "\n",
    "# x  = np.eye(10,dtype=\"int\")\n",
    "# print(x)"
   ]
  },
  {
   "cell_type": "code",
   "execution_count": 274,
   "metadata": {},
   "outputs": [
    {
     "name": "stdout",
     "output_type": "stream",
     "text": [
      "[20 20 30 40]\n"
     ]
    }
   ],
   "source": [
    "x = np.array([[0,10,20],[20,30,40]])\n",
    "\n",
    "print(x[np.where(x>10)])\n"
   ]
  },
  {
   "cell_type": "code",
   "execution_count": 280,
   "metadata": {},
   "outputs": [
    {
     "name": "stdout",
     "output_type": "stream",
     "text": [
      "[10 20 30 20 40 50 20 21 32]\n",
      "[[10 20 30]\n",
      " [20 40 50]\n",
      " [20 21 32]]\n"
     ]
    }
   ],
   "source": [
    "x = np.array([[10, 20, 30], [20, 40, 50],[20,21,32]])\n",
    "print(np.ravel(x))\n",
    "print(x.reshape(3,3))"
   ]
  }
 ],
 "metadata": {
  "kernelspec": {
   "display_name": "Python 3",
   "language": "python",
   "name": "python3"
  },
  "language_info": {
   "codemirror_mode": {
    "name": "ipython",
    "version": 3
   },
   "file_extension": ".py",
   "mimetype": "text/x-python",
   "name": "python",
   "nbconvert_exporter": "python",
   "pygments_lexer": "ipython3",
   "version": "3.11.4"
  }
 },
 "nbformat": 4,
 "nbformat_minor": 2
}
