{
 "cells": [
  {
   "cell_type": "code",
   "execution_count": 34,
   "id": "4d16587c-8618-4510-aed7-583942f8ee09",
   "metadata": {},
   "outputs": [
    {
     "name": "stdout",
     "output_type": "stream",
     "text": [
      "{'__module__': '__main__', 'sum': 0, 'display': <function students.display at 0x0000027DC2DD0220>, 'destroy': <function students.destroy at 0x0000027DC2DD1120>, 'sumchanger': <classmethod(<function students.sumchanger at 0x0000027DC2DD0F40>)>, '__dict__': <attribute '__dict__' of 'students' objects>, '__weakref__': <attribute '__weakref__' of 'students' objects>, '__doc__': None}\n",
      "29\n"
     ]
    }
   ],
   "source": [
    "class students:\n",
    "\n",
    "    sum = 0\n",
    "    def display():\n",
    "        \n",
    "        print(\"hii\")\n",
    "\n",
    "    def destroy():\n",
    "        print(\"Destroy\")\n",
    "\n",
    "    @classmethod\n",
    "    def sumchanger(cls,n):\n",
    "        cls.sum = n\n",
    "\n",
    "print(students.__dict__)\n",
    "students.sumchanger(29)\n",
    "print(students.sum)"
   ]
  },
  {
   "cell_type": "code",
   "execution_count": 28,
   "id": "807b36bc-bb40-4d6f-9780-3e679d8d19cd",
   "metadata": {},
   "outputs": [
    {
     "name": "stdout",
     "output_type": "stream",
     "text": [
      "hii\n",
      "{'sum': 61, 'age': 3}\n"
     ]
    }
   ],
   "source": [
    "class students:\n",
    "\n",
    "    sum = 0\n",
    "    def __init__(self,num):\n",
    "        self.sum = num\n",
    "        self.age  = 3\n",
    "    def display(self):\n",
    "        \n",
    "        print(\"hii\")\n",
    "\n",
    "    def destroy(self):\n",
    "        print(\"Destroy\")\n",
    "\n",
    "\n",
    "obj = students(61)\n",
    "obj.display()\n",
    "print(obj.__dict__)"
   ]
  },
  {
   "cell_type": "code",
   "execution_count": 56,
   "id": "0fd88a5c-f611-4b48-8326-8d42eb177583",
   "metadata": {},
   "outputs": [
    {
     "name": "stdout",
     "output_type": "stream",
     "text": [
      "<__main__.Students object at 0x0000027DC2CD5990>\n",
      "<__main__.Marks object at 0x0000027DC2DB3790>\n",
      "<__main__.Students object at 0x0000027DC2CAE310>\n",
      "<__main__.Marks object at 0x0000027DC2D12E10>\n",
      "True\n",
      "True\n"
     ]
    }
   ],
   "source": [
    "class Students:\n",
    "    pass\n",
    "\n",
    "class Marks(Students):\n",
    "    pass\n",
    "\n",
    "obj1 = Students()\n",
    "obj2 = Marks()\n",
    "obj3 = Students()\n",
    "obj4 = Marks()\n",
    "\n",
    "print(obj1)\n",
    "print(obj2)\n",
    "print(obj3)\n",
    "print(obj4)\n",
    "\n",
    "print(isinstance(obj2,Students))     #isinstance(object,type)\n",
    "print(issubclass(Marks,Students))    #issubclass(subclass,supperclass)\n",
    "\n"
   ]
  },
  {
   "cell_type": "code",
   "execution_count": 61,
   "id": "753365ed-ad95-46b0-b7ef-17fb67906d7d",
   "metadata": {},
   "outputs": [
    {
     "name": "stdout",
     "output_type": "stream",
     "text": [
      "{'student_id': 1002, 'student_name': 'Hello World'}\n",
      "{'student_id': 1002}\n"
     ]
    }
   ],
   "source": [
    "\"\"\"\n",
    "\n",
    "4.Write a Python class named Student with two attributes student_id, student_name. Add a new attribute student_class\n",
    "and display the entire attribute and the values of the class. Now remove the student_name attribute and display the\n",
    "entire attribute with values.\n",
    "\n",
    "\"\"\"\n",
    "\n",
    "class Student:\n",
    "    def __init__(self,student_id,student_name):\n",
    "        self.student_id = student_id\n",
    "        self.student_name = student_name\n",
    "        \n",
    "obj = Student(1002,\"Hello World\")\n",
    "print(obj.__dict__)\n",
    "del obj.student_name\n",
    "print(obj.__dict__)\n",
    "\n",
    "        "
   ]
  },
  {
   "cell_type": "code",
   "execution_count": 2,
   "id": "d65f95e8-394b-4cfe-a8fe-6dfd9f7f0dd2",
   "metadata": {},
   "outputs": [
    {
     "name": "stdin",
     "output_type": "stream",
     "text": [
      "Enter the string str1: ()())\n"
     ]
    },
    {
     "name": "stdout",
     "output_type": "stream",
     "text": [
      "False\n"
     ]
    }
   ],
   "source": [
    "\"\"\"\n",
    "Write a Python class to check the validity of a string of parentheses, '(', ')', '{', '}', '[' and '].\n",
    "These brackets must be closed in the correct order, for example \"()\" and \"()[]{}\" are valid but \"[)\", \"({[)]\"\n",
    "and \"{{{\" are invalid.\n",
    "\n",
    "\"\"\"\n",
    "\n",
    "class Parenthesis:\n",
    "    def __init__(self,str1):\n",
    "        self.str1=str1\n",
    "        \n",
    "    def isValid(self,stack):\n",
    "        stack.append(self.str1[0])\n",
    "        for i in range(1,len(str1)):\n",
    "            if stack:\n",
    "                if((stack[-1]=='(' and str1[i]==')') or (stack[-1]=='[' and str1[i]==']') or (stack[-1]=='{' and str1[i]=='}')):\n",
    "                    stack.pop()\n",
    "                else:\n",
    "                    stack.append(self.str1[i])\n",
    "            else:\n",
    "                stack.append(self.str1[i])\n",
    "                \n",
    "        return not stack\n",
    "            \n",
    "\n",
    "str1=input(\"Enter the string str1:\")\n",
    "stack=[]\n",
    "p1=Parenthesis(str1)\n",
    "print(p1.isValid(stack)==True)\n",
    "\n"
   ]
  },
  {
   "cell_type": "code",
   "execution_count": 99,
   "id": "d5e23b7e-fac6-43ae-98d9-fab3ed12eb33",
   "metadata": {},
   "outputs": [
    {
     "name": "stdin",
     "output_type": "stream",
     "text": [
      "Enter the number of records: 1\n",
      "Enter employee ID:  1002\n",
      "Enter employee name:  Dipesh\n",
      "Enter employee salary:  10000\n",
      "Enter employee department:  IT\n",
      "Enter the worked 1000\n",
      "Want to change the department of some employee write 1 for yes and 0 for no 1\n",
      "Enter employee id =  1001\n",
      "Enter new department =  HR\n"
     ]
    },
    {
     "name": "stdout",
     "output_type": "stream",
     "text": [
      "Do you want to make another change?? write 1 for yes and 0 for no ->"
     ]
    },
    {
     "name": "stdin",
     "output_type": "stream",
     "text": [
      " 0\n"
     ]
    },
    {
     "name": "stdout",
     "output_type": "stream",
     "text": [
      "Id ->  1002\n",
      "Name ->  Dipesh\n",
      "Salary ->  10000\n",
      "Department ->  IT\n",
      "-------------------------------\n",
      "\n",
      "Total Salary ->  200000\n",
      "-------------------------------\n",
      "\n"
     ]
    }
   ],
   "source": [
    "\"\"\"\n",
    "6.Write a Python class Employee with attributes like emp_id, emp_name, emp_salary, and emp_department and\n",
    "methods like calculate_emp_salary, emp_assign_department, and print_employee_details.\n",
    "\n",
    "Sample Employee Data:\n",
    "\"ADAMS\", \"E7876\", 50000, \"ACCOUNTING\"\n",
    "\"JONES\", \"E7499\", 45000, \"RESEARCH\"\n",
    "\"MARTIN\", \"E7900\", 50000, \"SALES\"\n",
    "\"SMITH\", \"E7698\", 55000, \"OPERATIONS\"\n",
    "Use 'assign_department' method to change the department of an employee.\n",
    "Use 'print_employee_details' method to print the details of an employee.\n",
    "Use 'calculate_emp_salary' method takes two arguments: salary and hours_worked, which is the number of hours\n",
    "worked by the employee. If the number of hours worked is more than 50, the method computes overtime and adds it to the salary.\n",
    "Overtime is calculated as following formula:\n",
    "overtime = hours_worked – 50\n",
    "Overtime amount = (overtime * (salary / 50))\n",
    "\n",
    "\"\"\"\n",
    "class Employee:\n",
    "    def __init__(self,emp_id,emp_name,emp_salary,emp_department,hours_worked):\n",
    "        self.emp_id = emp_id\n",
    "        self.emp_name = emp_name\n",
    "        self.emp_salary = emp_salary\n",
    "        self.emp_department = emp_department\n",
    "        self.hours_worked = hours_worked\n",
    "\n",
    "    def overtime_amount(self,hours_worked):\n",
    "        overtime = hours_worked - 50\n",
    "        return (overtime * (self.emp_salary//50))\n",
    "                            \n",
    "    def calculate_emp_salary(self,hours_worked):\n",
    "        return self.emp_salary + self.overtime_amount(hours_worked)\n",
    "\n",
    "    def emp_assign_department(self,department):\n",
    "        print(\"current department -> \",self.emp_department)\n",
    "        self.emp_department = department\n",
    "        print(\"Changed to -> \",self.emp_department)\n",
    "        \n",
    "    def print_employee_details(self):\n",
    "        print(\"Id -> \",self.emp_id)\n",
    "        print(\"Name -> \",self.emp_name)\n",
    "        print(\"Salary -> \",self.emp_salary)\n",
    "        print(\"Department -> \",self.emp_department)\n",
    "\n",
    "def main():\n",
    "    n = int(input(\"Enter the number of records:\"))\n",
    "    records = []\n",
    "    for i in range(n):\n",
    "        emp_id = input(\"Enter employee ID: \")\n",
    "        emp_name = input(\"Enter employee name: \")\n",
    "        emp_salary = int(input(\"Enter employee salary: \"))\n",
    "        emp_department = input(\"Enter employee department: \")\n",
    "        hours_worked = int(input(\"Enter the worked\"))\n",
    "        employee = Employee(emp_id, emp_name, emp_salary, emp_department,hours_worked)\n",
    "        records.append(employee)\n",
    "\n",
    "    i = int(input(\"Want to change the department of some employee write 1 for yes and 0 for no\"))\n",
    "    while(i):\n",
    "        emp_id = input(\"Enter employee id = \")\n",
    "        department  = input(\"Enter new department = \")\n",
    "        for j in records:\n",
    "            if j.emp_id == emp_id:\n",
    "                print(\"mil gya\")\n",
    "                j.emp_assign_department(department)\n",
    "                break\n",
    "        print(\"Do you want to make another change?? write 1 for yes and 0 for no ->\",end=\"\")\n",
    "        i = int(input())\n",
    "                                \n",
    "        \n",
    "    for i in records:\n",
    "        print(\"-------------------------------\\n\")\n",
    "        i.print_employee_details()\n",
    "        print(\"Total Salary -> \",i.calculate_emp_salary(i.hours_worked))\n",
    "        print(\"-------------------------------\\n\")\n",
    "    \n",
    "\n",
    "\n",
    "if __name__ == \"__main__\":\n",
    "    main()\n",
    "        \n",
    "    \n",
    "\n"
   ]
  },
  {
   "cell_type": "code",
   "execution_count": null,
   "id": "d04bbeaa-872c-4e17-8702-3726b283f674",
   "metadata": {},
   "outputs": [],
   "source": [
    "\"\"\"\n",
    "7.Write a Python class Restaurant with attributes like menu_items, book_table, and customer_orders, and methods like add_item_to_menu, book_tables, and customer_order.\n",
    "\n",
    "Perform the following tasks now:\n",
    "Now add items to the menu.\n",
    "Make table reservations.\n",
    "Take customer orders.\n",
    "Print the menu.\n",
    "Print table reservations.\n",
    "Print customer orders.\n",
    "Note: Use dictionaries and lists to store the data.\n",
    "\"\"\"\n",
    "\n"
   ]
  },
  {
   "cell_type": "code",
   "execution_count": 3,
   "id": "44bc4e5e-98d3-4836-aed4-5658ff8c4d47",
   "metadata": {},
   "outputs": [
    {
     "name": "stdin",
     "output_type": "stream",
     "text": [
      "Enter the number of items to add:  1\n",
      "Enter the item id:  1001\n",
      "Enter the item name:  bagain\n",
      "Enter item count:  5\n",
      "Enter price:  123\n"
     ]
    },
    {
     "name": "stdout",
     "output_type": "stream",
     "text": [
      "Item added successfully!\n"
     ]
    },
    {
     "name": "stdin",
     "output_type": "stream",
     "text": [
      "Enter the item ID to update:  1001\n",
      "Enter the value to update (item_name, stock_count, or price):  item_name\n",
      "Enter the new value:  loki\n"
     ]
    },
    {
     "name": "stdout",
     "output_type": "stream",
     "text": [
      "Item updated successfully!\n"
     ]
    },
    {
     "name": "stdin",
     "output_type": "stream",
     "text": [
      "Enter the item ID to check details:  1001\n"
     ]
    },
    {
     "name": "stdout",
     "output_type": "stream",
     "text": [
      "ID ->  1001\n",
      "Name ->  loki\n",
      "Stock Count ->  5\n",
      "Price ->  123\n"
     ]
    }
   ],
   "source": [
    "\"\"\"\n",
    "8.Write a Python class Inventory with attributes like item_id, item_name, stock_count, and price, and methods\n",
    "like add_item, update_item, and check_item_details.\n",
    "Use a dictionary to store the item details, where the key is the item_id and the value is a dictionary containing\n",
    "the item_name, stock_count, and price.\n",
    "\n",
    "\"\"\"\n",
    "\n",
    "class Inventory:\n",
    "    def __init__(self):\n",
    "        self.items = {}  # Dictionary to store item details\n",
    "\n",
    "    def add_item(self, item_id, item_name, stock_count, price):\n",
    "        self.items[item_id] = {\n",
    "            \"item_name\": item_name,\n",
    "            \"stock_count\": stock_count,\n",
    "            \"price\": price\n",
    "        }\n",
    "        print(\"Item added successfully!\")\n",
    "\n",
    "    def update_item(self, item_id, value, new_value):\n",
    "        if item_id in self.items:\n",
    "            self.items[item_id][value] = new_value\n",
    "            print(\"Item updated successfully!\")\n",
    "        else:\n",
    "            print(\"Item not found.\")\n",
    "\n",
    "    def check_item_details(self, item_id):\n",
    "        if item_id in self.items:\n",
    "            item_details = self.items[item_id]\n",
    "            print(\"ID -> \", item_id)\n",
    "            print(\"Name -> \", item_details[\"item_name\"])\n",
    "            print(\"Stock Count -> \", item_details[\"stock_count\"])\n",
    "            print(\"Price -> \", item_details[\"price\"])\n",
    "        else:\n",
    "            print(\"Item not found.\")\n",
    "\n",
    "def main():\n",
    "    inventory = Inventory()\n",
    "    n = int(input(\"Enter the number of items to add: \"))\n",
    "\n",
    "    for i in range(n):\n",
    "        item_id = input(\"Enter the item id: \")\n",
    "        item_name = input(\"Enter the item name: \")\n",
    "        stock_count = int(input(\"Enter item count: \"))\n",
    "        price = int(input(\"Enter price: \"))\n",
    "        inventory.add_item(item_id, item_name, stock_count, price)\n",
    "\n",
    "\"\"\n",
    "    item_id_to_update = input(\"Enter the item ID to update: \")\n",
    "    value_to_update = input(\"Enter the value to update (item_name, stock_count, or price): \")\n",
    "    new_value = input(\"Enter the new value: \")\n",
    "    inventory.update_item(item_id_to_update, value_to_update, new_value)\n",
    "\n",
    "    item_id_to_check = input(\"Enter the item ID to check details: \")\n",
    "    inventory.check_item_details(item_id_to_check)\n",
    "\n",
    "if __name__ == \"__main__\":\n",
    "    main()\n"
   ]
  },
  {
   "cell_type": "code",
   "execution_count": 24,
   "id": "d6f16237-446a-4037-82cd-ce4b0fe5a088",
   "metadata": {},
   "outputs": [
    {
     "name": "stdout",
     "output_type": "stream",
     "text": [
      "Menu:\n",
      "pizza  :  100\n",
      "momos  :  50\n",
      "spring roll  :  40\n",
      "pasta  :  150\n",
      "Successfully booked your table 😊\n"
     ]
    },
    {
     "name": "stdin",
     "output_type": "stream",
     "text": [
      "\n",
      "                Enter menu now !!! 1 or yes and 0 for no\n",
      "             51\n"
     ]
    },
    {
     "name": "stdout",
     "output_type": "stream",
     "text": [
      "Menu:\n",
      "pizza  :  100\n",
      "momos  :  50\n",
      "spring roll  :  40\n",
      "pasta  :  150\n"
     ]
    },
    {
     "name": "stdin",
     "output_type": "stream",
     "text": [
      "Enter the food name (Kindly enter the right spelling) 22\n",
      "enter more  no\n"
     ]
    },
    {
     "name": "stdout",
     "output_type": "stream",
     "text": [
      "['22']\n"
     ]
    }
   ],
   "source": [
    "\"\"\"\n",
    "7.Write a Python class Restaurant with attributes like menu_items, book_table, and customer_orders,\n",
    "and methods like add_item_to_menu, book_tables, and customer_order.\n",
    "\n",
    "Perform the following tasks now:\n",
    "Now add items to the menu.\n",
    "Make table reservations.\n",
    "Take customer orders.\n",
    "Print the menu.\n",
    "Print table reservations.\n",
    "Print customer orders.\n",
    "Note: Use dictionaries and lists to store the data.\n",
    "\n",
    "\"\"\"\n",
    "class Restaurant:\n",
    "    def __init__(self):\n",
    "        self.menu_items = {} \n",
    "        self.book_table = []\n",
    "        self.customer_orders = []\n",
    "        \n",
    "    def add_item_to_menu(self,item_name,price):\n",
    "        self.menu_items[item_name] = price\n",
    "        \n",
    "    def book_tables(self,name,time,number_of_people):\n",
    "        self.book_table.append({\"name\": name, \"time\": time, \"number_of_peoples\": number_of_people})\n",
    "        print(\"Successfully booked your table 😊\")\n",
    "\n",
    "    def customer_order(self,items):\n",
    "        self.customer_orders.append(items)\n",
    "\n",
    "    def print_menu(self):\n",
    "        print(\"Menu:\")\n",
    "        for item_name, price in self.menu_items.items():\n",
    "            print(item_name ,\" : \",price)\n",
    "\n",
    "    \n",
    "\n",
    "def main():\n",
    "\n",
    "    obj = Restaurant()\n",
    "    \n",
    "    obj.add_item_to_menu(\"pizza\",100)\n",
    "    obj.add_item_to_menu(\"momos\",50)\n",
    "    obj.add_item_to_menu(\"spring roll\",40)\n",
    "    obj.add_item_to_menu(\"pasta\",150)\n",
    "\n",
    "    obj.print_menu()\n",
    "\n",
    "    obj.book_tables(\"Dipesh\",\"12:45\",\"6\")\n",
    "\n",
    "    s = input(\"\"\"\n",
    "                Enter menu now !!! 1 or yes and 0 for no\n",
    "            \"\"\" )\n",
    "    while(s):\n",
    "        obj.print_menu()\n",
    "        n = input(\"Enter the food name (Kindly enter the right spelling)\")\n",
    "        s = input(\"enter more \")\n",
    "        obj.customer_order(n)\n",
    "        if s==\"no\":\n",
    "            break\n",
    "\n",
    "    print(obj.customer_orders)\n",
    "    \n",
    "\n",
    "\n",
    "if __name__ == \"__main__\":\n",
    "    main()"
   ]
  },
  {
   "cell_type": "code",
   "execution_count": null,
   "id": "55508245-4252-424b-a474-926f20607d09",
   "metadata": {},
   "outputs": [],
   "source": []
  }
 ],
 "metadata": {
  "kernelspec": {
   "display_name": "Python 3 (ipykernel)",
   "language": "python",
   "name": "python3"
  },
  "language_info": {
   "codemirror_mode": {
    "name": "ipython",
    "version": 3
   },
   "file_extension": ".py",
   "mimetype": "text/x-python",
   "name": "python",
   "nbconvert_exporter": "python",
   "pygments_lexer": "ipython3",
   "version": "3.11.4"
  }
 },
 "nbformat": 4,
 "nbformat_minor": 5
}
