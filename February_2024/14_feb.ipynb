{
 "cells": [
  {
   "cell_type": "code",
   "execution_count": 23,
   "metadata": {},
   "outputs": [
    {
     "name": "stdout",
     "output_type": "stream",
     "text": [
      "[[0 0 0]\n",
      " [0 0 0]\n",
      " [0 0 0]\n",
      " [0 0 0]\n",
      " [0 0 0]]\n"
     ]
    }
   ],
   "source": [
    "import numpy as np\n",
    "print(np.zeros([5,3],dtype=np.int32))"
   ]
  },
  {
   "cell_type": "markdown",
   "metadata": {},
   "source": [
    "Problem 1\n",
    "Write a NumPy program to test whether each element of a 1-D array is also present in a second array.\n",
    "Expected Output:\n",
    "Array1: [ 0 10 20 40 60]\n",
    "Array2: [0, 40]\n",
    "Compare each element of array1 and array2\n",
    "Output: [ True False False True False]\n"
   ]
  },
  {
   "cell_type": "code",
   "execution_count": 28,
   "metadata": {},
   "outputs": [
    {
     "name": "stdout",
     "output_type": "stream",
     "text": [
      "[ True False False  True False]\n"
     ]
    }
   ],
   "source": [
    "import numpy as np\n",
    "a = np.array([0,10,20,40,60])\n",
    "b = np.array([0,40])\n",
    "\n",
    "c = np.in1d(a,b)\n",
    "print(c)"
   ]
  },
  {
   "cell_type": "markdown",
   "metadata": {},
   "source": [
    "Problem 2\n",
    "Write a NumPy program to get the unique elements of an array\n",
    "Expected Output:\n",
    "Original array:\n",
    "[10 10 20 20 30 30]\n",
    "Unique elements of the above array:\n",
    "[10 20 30]\n",
    "Original array:\n",
    "[[1 1]\n",
    "[2 3]]\n",
    "Unique elements of the above array:\n",
    "[1 2 3]"
   ]
  },
  {
   "cell_type": "code",
   "execution_count": 5,
   "metadata": {},
   "outputs": [
    {
     "name": "stdout",
     "output_type": "stream",
     "text": [
      "[10 20]\n",
      "[1 2 3]\n"
     ]
    }
   ],
   "source": [
    "\n",
    "import numpy as np\n",
    "some_input = input(\"Enter Space seperated inputs\").split()\n",
    "a = []\n",
    "for i in some_input:\n",
    "    a.append(int(i))\n",
    "\n",
    "\n",
    "b = np.array([[1,1],[2,3]])\n",
    "\n",
    "print(np.unique(a))\n",
    "print(np.unique(b))"
   ]
  },
  {
   "cell_type": "markdown",
   "metadata": {},
   "source": [
    "Problem 3\n",
    "Write a NumPy program to sort an along the first, last axis of an array.\n",
    "Sample array: [[2,5],[4,4]]\n",
    "Expected Output:\n",
    "Original array:\n",
    "[[4 6]\n",
    "[2 1]]\n",
    "Sort along the first axis:\n",
    "[[2 1]\n",
    "[4 6]]\n",
    "Sort along the last axis:\n",
    "[[1 2]\n",
    "[4 6]]"
   ]
  },
  {
   "cell_type": "code",
   "execution_count": 6,
   "metadata": {},
   "outputs": [
    {
     "name": "stdout",
     "output_type": "stream",
     "text": [
      "[[1 2 5]\n",
      " [4 5 6]]\n"
     ]
    }
   ],
   "source": [
    "import numpy as np\n",
    "arr = []\n",
    "row = int(input(\"Enter how many rows \"))\n",
    "\n",
    "for i in range(row):\n",
    "    \n",
    "    some_input = input(\"Enter Space seperated inputs\").split()\n",
    "    a = []\n",
    "    for i in some_input:\n",
    "        a.append(int(i))\n",
    "\n",
    "    arr.append(a)\n",
    "\n",
    "\n",
    "ans = np.sort(arr,axis=-1)\n",
    "print(ans)\n",
    "np\n"
   ]
  },
  {
   "cell_type": "markdown",
   "metadata": {},
   "source": [
    "\n",
    "Problem 4\n",
    "Write a NumPy program to count the occurrence of a specified item in a given NumPy array.\n",
    "Sample Output:\n",
    "Original array:\n",
    "[10 20 20 20 20 0 20 30 30 30 0 0 20 20 0]\n",
    "[4,1,7,3]"
   ]
  },
  {
   "cell_type": "code",
   "execution_count": 12,
   "metadata": {},
   "outputs": [
    {
     "name": "stdout",
     "output_type": "stream",
     "text": [
      "[4 1 7 3]\n"
     ]
    }
   ],
   "source": [
    "import numpy as np\n",
    "some_input = input(\"Enter Space seperated inputs\").split()\n",
    "a = []\n",
    "for i in some_input:\n",
    "    a.append(int(i))\n",
    "\n",
    "print(np.unique(a,return_counts=True)[1])\n",
    "\n",
    "\n"
   ]
  },
  {
   "cell_type": "markdown",
   "metadata": {},
   "source": [
    "Problem 5\n",
    "Write a NumPy program to remove nan values from a given array.\n",
    "Sample Output:\n",
    "Original array:\n",
    "[200. 300. nan nan nan 700.]\n",
    "After removing nan values:\n",
    "[200. 300. 700.]"
   ]
  },
  {
   "cell_type": "code",
   "execution_count": 15,
   "metadata": {},
   "outputs": [
    {
     "name": "stdout",
     "output_type": "stream",
     "text": [
      "[200. 300. 700.]\n"
     ]
    }
   ],
   "source": [
    "import numpy as np\n",
    "arr = np.array([200,300,np.nan,np.nan,np.nan,700])\n",
    "\n",
    "arr = arr[np.logical_not(np.isnan(arr))]\n",
    "\n",
    "print(arr)"
   ]
  },
  {
   "cell_type": "markdown",
   "metadata": {},
   "source": [
    "Problem 6\n",
    "Write a NumPy program to calculate percentiles for a sequence or single-dimensional NumPy array.\n",
    "Sample Output:\n",
    "50th percentile (median):\n",
    "3.0\n",
    "40th percentile:\n",
    "2.6\n",
    "90th percentile:\n",
    "4.6"
   ]
  },
  {
   "cell_type": "code",
   "execution_count": 18,
   "metadata": {},
   "outputs": [
    {
     "name": "stdout",
     "output_type": "stream",
     "text": [
      "50th percentile (median):\n",
      "25.0\n",
      "40th percentile:\n",
      "20.0\n",
      "90th percentile:\n",
      "59.60000000000001\n"
     ]
    }
   ],
   "source": [
    "import numpy as np\n",
    "arr = np.array([10,20,50,30,140,20,10,50,30,20,62,25,11])\n",
    "\n",
    "print(\"50th percentile (median):\")\n",
    "print(np.percentile(arr,50))\n",
    "\n",
    "print(\"40th percentile:\")\n",
    "print(np.percentile(arr,40))\n",
    "\n",
    "print(\"90th percentile:\")\n",
    "print(np.percentile(arr,90))"
   ]
  },
  {
   "cell_type": "markdown",
   "metadata": {},
   "source": [
    "Problem 7\n",
    "Write a NumPy program to find indices of elements equal to zero in a NumPy array.\n",
    "Sample Output:\n",
    "Original array:\n",
    "[1 0 2 0 3 0 4 5 6 7 8]\n",
    "Indices of elements equal +to zero of the said array:\n",
    "[1 3 5]"
   ]
  },
  {
   "cell_type": "code",
   "execution_count": 26,
   "metadata": {},
   "outputs": [
    {
     "name": "stdout",
     "output_type": "stream",
     "text": [
      "[ 5 10 11 14]\n"
     ]
    }
   ],
   "source": [
    "import numpy as np\n",
    "some_input = input(\"Enter Space seperated inputs\").split()\n",
    "a = []\n",
    "for i in some_input:\n",
    "    a.append(int(i))\n",
    "\n",
    "a = np.array(a)\n",
    "print(np.where(a==0)[0])\n"
   ]
  },
  {
   "cell_type": "markdown",
   "metadata": {},
   "source": [
    "Problem 8\n",
    "Write a NumPy program to round elements of the array to the nearest integer, and then calculate the abslute value element wise.\n",
    "Sample Output:\n",
    "Original array:\n",
    "[-0.7 -1.5 -1.7 0.3 1.5 1.8 2. ]\n",
    "Round elements of the array to the nearest integer:\n",
    "[1. 2. 2. 0. 2. 2. 2.]"
   ]
  },
  {
   "cell_type": "code",
   "execution_count": 32,
   "metadata": {},
   "outputs": [
    {
     "name": "stdout",
     "output_type": "stream",
     "text": [
      "[2. 2. 6. 8. 9.]\n"
     ]
    }
   ],
   "source": [
    "import numpy as np\n",
    "some_input = input(\"Enter Space seperated inputs\").split()\n",
    "a = []\n",
    "for i in some_input:\n",
    "    a.append(float(i))\n",
    "\n",
    "a = np.array(a)\n",
    "print(np.absolute(np.round(a)))\n",
    "\n",
    "\n"
   ]
  },
  {
   "cell_type": "markdown",
   "metadata": {},
   "source": [
    "Problem 9\n",
    "Write a NumPy program to calculate the difference between neighboring elements, element-wise, and prepend [0, 0] and append[200] to a given array.\n",
    "Sample output:\n",
    "Original array:\n",
    "[1 3 5 7 0]\n",
    "Difference between neighboring elements, element-wise, and prepend [0, 0] and append[200] to the said array:\n",
    "[ 0 0 2 2 2 -7 200]"
   ]
  },
  {
   "cell_type": "code",
   "execution_count": 35,
   "metadata": {},
   "outputs": [
    {
     "name": "stdout",
     "output_type": "stream",
     "text": [
      "[ 2  2  2 -7]\n",
      "[  0   0   2   2   2  -7 200]\n"
     ]
    }
   ],
   "source": [
    "x = np.array([1,3,5,7,0])\n",
    "x= np.diff(x)\n",
    "print(x)\n",
    "\n",
    "new_arr = np.append(x,200)\n",
    "new_arr = np.insert(new_arr,0,[0,0])\n",
    "print(new_arr)"
   ]
  },
  {
   "cell_type": "markdown",
   "metadata": {},
   "source": [
    "Problem 10\n",
    "Write a NumPy program to get the indices of the sorted elements of a given array.\n",
    "Expected Output:\n",
    "Original array:\n",
    "[1023 5202 6230 1671 1682 5241 4532]\n",
    "Indices of the sorted elements of a given array:\n",
    "[0 3 4 6 1 5 2]"
   ]
  },
  {
   "cell_type": "code",
   "execution_count": 36,
   "metadata": {},
   "outputs": [
    {
     "name": "stdout",
     "output_type": "stream",
     "text": [
      "[0 3 4 6 1 5 2]\n"
     ]
    }
   ],
   "source": [
    "x = np.array([1023,5202,6230,1671,1682,5241,4532])\n",
    "print(np.argsort(x))"
   ]
  },
  {
   "cell_type": "markdown",
   "metadata": {},
   "source": [
    "Problem 11\n",
    "Write a NumPy program to partition a given array in a specified position and move all the smaller elements values to the left of the partition, and the remaining values to the right, in arbitrary order (based on random choice).\n",
    "Sample output:\n",
    "Original array:\n",
    "[ 70 50 20 30 -11 60 50 40]\n",
    "After partitioning on 4 the position:\n",
    "[-11 30 20 40 50 50 60 70]"
   ]
  },
  {
   "cell_type": "code",
   "execution_count": 37,
   "metadata": {},
   "outputs": [
    {
     "name": "stdout",
     "output_type": "stream",
     "text": [
      "[-11  30  20  40  50  50  60  70]\n"
     ]
    }
   ],
   "source": [
    "x = np.array([70,50,20,30,-11,60,50,40])\n",
    "print(np.partition(x,4))"
   ]
  },
  {
   "cell_type": "markdown",
   "metadata": {},
   "source": [
    "Problem 12\n",
    "Compute the euclidean distance between two arrays a and b.\n",
    "Input:\n",
    "[1,2,3,4,5]\n",
    "[4,5,6,7,8]\n",
    "Euclidean distance is: 6.7082\n"
   ]
  },
  {
   "cell_type": "code",
   "execution_count": 42,
   "metadata": {},
   "outputs": [
    {
     "name": "stdout",
     "output_type": "stream",
     "text": [
      "[3 3 3 3 3]\n",
      "6.708203932499369\n"
     ]
    }
   ],
   "source": [
    "a = np.array([1,2,3,4,5])\n",
    "b = np.array([4,5,6,7,8])\n",
    "\n",
    "print(b-a)\n",
    "print(np.sqrt(np.sum(np.square(b-a))))"
   ]
  },
  {
   "cell_type": "markdown",
   "metadata": {},
   "source": [
    "Problem 13\n",
    "Find all the peaks in a 1D numpy array a. Peaks are points surrounded by smaller values on both sides.\n",
    "Input:\n",
    "array([1, 3, 7, 1, 2, 6, 0, 1])\n",
    "Desired Output:\n",
    "array( [2, 5])\n",
    "where, 2 and 5 are the positions of peak values 7 and 6."
   ]
  },
  {
   "cell_type": "code",
   "execution_count": 50,
   "metadata": {},
   "outputs": [
    {
     "name": "stdout",
     "output_type": "stream",
     "text": [
      "[2, 5]\n"
     ]
    }
   ],
   "source": [
    "arr=np.array([1, 3, 7, 1, 2, 6, 0, 1])\n",
    "li=[]\n",
    "for i in range(len(arr)-1):\n",
    "    if(arr[i]>arr[i-1] and arr[i]>arr[i+1]):\n",
    "        li.append(i)\n",
    "\n",
    "print(li)"
   ]
  },
  {
   "cell_type": "markdown",
   "metadata": {},
   "source": [
    "Problem 14\n",
    "Find the index of nth repetition of number i .\n",
    "Inputs\n",
    "array([1, 2, 1, 1, 3, 4, 3, 1, 1, 2, 1, 1, 2])\n",
    "n = 5 (from user)\n",
    "i = 1 (from user)\n",
    "Output\n",
    "8"
   ]
  },
  {
   "cell_type": "code",
   "execution_count": 52,
   "metadata": {},
   "outputs": [
    {
     "name": "stdout",
     "output_type": "stream",
     "text": [
      "8\n"
     ]
    }
   ],
   "source": [
    "a = np.array([1, 2, 1, 1, 3, 4, 3, 1, 1, 2, 1, 1, 2])\n",
    "n = int(input(\"enter value of n\"))\n",
    "i = int(input(\"enter value of i\"))\n",
    "\n",
    "print(np.where(a==i)[0][n-1])"
   ]
  },
  {
   "cell_type": "code",
   "execution_count": null,
   "metadata": {},
   "outputs": [],
   "source": []
  }
 ],
 "metadata": {
  "kernelspec": {
   "display_name": "Python 3",
   "language": "python",
   "name": "python3"
  },
  "language_info": {
   "codemirror_mode": {
    "name": "ipython",
    "version": 3
   },
   "file_extension": ".py",
   "mimetype": "text/x-python",
   "name": "python",
   "nbconvert_exporter": "python",
   "pygments_lexer": "ipython3",
   "version": "3.11.4"
  }
 },
 "nbformat": 4,
 "nbformat_minor": 2
}
