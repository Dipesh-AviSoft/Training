{
 "cells": [
  {
   "cell_type": "markdown",
   "metadata": {},
   "source": [
    "**1. Write a Python function that takes two parameters, numerator and denominator, and returns the result of the division. However, handle the case where the denominator is zero by using a try-except block. In the except block, print an error message and return None**"
   ]
  },
  {
   "cell_type": "code",
   "execution_count": 1,
   "metadata": {},
   "outputs": [
    {
     "name": "stdout",
     "output_type": "stream",
     "text": [
      "6\n"
     ]
    }
   ],
   "source": [
    "def division(numerator,denominator):\n",
    "    try:\n",
    "        result = numerator//denominator\n",
    "    except ZeroDivisionError:\n",
    "        print(\"Denominator is zero\")\n",
    "        return None\n",
    "    else:\n",
    "        return result\n",
    "        \n",
    "    \n",
    "\n",
    "\n",
    "try:\n",
    "    numerator = int(input(\"Enter the numertor\"))\n",
    "    denominator = int(input(\"Enter the Deniminator\"))\n",
    "except ValueError as e:\n",
    "    print(str(e))\n",
    "    \n",
    "    \n",
    "else:\n",
    "    print(division(numerator,denominator))\n"
   ]
  },
  {
   "cell_type": "markdown",
   "metadata": {},
   "source": [
    "**2. Create a function that reads the content of a file. Use a try-except block to handle the case where the file does not exist. In the except block, print an error message and return an empty string.**"
   ]
  },
  {
   "cell_type": "code",
   "execution_count": 34,
   "metadata": {},
   "outputs": [
    {
     "name": "stdout",
     "output_type": "stream",
     "text": [
      "File not found\n"
     ]
    }
   ],
   "source": [
    "def read_file(file_name):\n",
    "    try:\n",
    "        file = open(file_name)\n",
    "            \n",
    "    except FileNotFoundError:\n",
    "        print(\"File not found\")\n",
    "    else:\n",
    "        print(file.read())\n",
    "\n",
    "\n",
    "read_file(\"extra_files/Tet.txt\")\n",
    "\n",
    "\n"
   ]
  },
  {
   "cell_type": "code",
   "execution_count": 31,
   "metadata": {},
   "outputs": [
    {
     "name": "stdout",
     "output_type": "stream",
     "text": [
      "5\n"
     ]
    }
   ],
   "source": [
    "class InvalidInputError(Exception):\n",
    "    \"Raised When User input negative number\"\n",
    "    pass\n",
    "\n",
    "\n",
    "try:\n",
    "    n = int(input(\"Enter a positive number\"))\n",
    "    if(n<0):\n",
    "        raise InvalidInputError\n",
    "except InvalidInputError:\n",
    "    print(\"Check Your number... It's Invaild\")\n",
    "else:\n",
    "    print(n)\n"
   ]
  },
  {
   "cell_type": "markdown",
   "metadata": {},
   "source": [
    "**4. Create a function that validates a user's password. The password must satisfy the following conditions:**\n",
    "\n",
    "At least 8 characters long\n",
    "Contains at least one uppercase letter\n",
    "Contains at least one digit"
   ]
  },
  {
   "cell_type": "code",
   "execution_count": 20,
   "metadata": {},
   "outputs": [
    {
     "name": "stdout",
     "output_type": "stream",
     "text": [
      "Invalid password\n"
     ]
    }
   ],
   "source": [
    "class ValidationError(Exception):\n",
    "    \"Raised When User password does not fulfill password requirement\"\n",
    "    # print(\"Invalid output\")\n",
    "    pass\n",
    "\n",
    "\n",
    "try:\n",
    "    n = input(\"\"\"Enter a password that is\n",
    "              (1) 8 Character Long\n",
    "              (2) At lease one uppercase letter\n",
    "              (3) at least one digit \"\"\")\n",
    "    if (not any(x.isupper() for x in n)):\n",
    "        raise ValidationError\n",
    "    elif (not any(x.isnumeric() for x in n)):\n",
    "        raise ValidationError\n",
    "    elif (len(n)<8):\n",
    "        raise ValidationError\n",
    "\n",
    "\n",
    "except ValidationError as e:\n",
    "    print(\"Invalid password\")\n",
    "else:\n",
    "    print(n)\n",
    "\n"
   ]
  },
  {
   "cell_type": "markdown",
   "metadata": {},
   "source": [
    "**5. URL Parsing**\n",
    "Create a function that parses a URL and extracts the protocol (http or https), domain, and path. Define a custom exception InvalidURLError and raise it if the URL does not start with \"http://\" or \"https://\"."
   ]
  },
  {
   "cell_type": "code",
   "execution_count": 56,
   "metadata": {},
   "outputs": [
    {
     "name": "stdout",
     "output_type": "stream",
     "text": [
      "host =  https\n",
      "Domain =  docs.python.org\n",
      "Path =  3/library/urllib.parse.html\n"
     ]
    }
   ],
   "source": [
    "\n",
    "class InvalidURLError(Exception):\n",
    "    pass\n",
    "\n",
    "try:\n",
    "    input_str = input(\"Enter Url\")\n",
    "    if not (( input_str.startswith(\"http://\")) or (  input_str.startswith(\"https://\"))):\n",
    "        raise InvalidURLError\n",
    "except InvalidURLError:\n",
    "    print(\"Please enter a valid Url\")\n",
    "else:\n",
    "    \n",
    "    print(\"host = \",input_str.split(\":\")[0])\n",
    "    input_str = input_str.split(\":\")[1]\n",
    "    input_str = input_str.lstrip('/')\n",
    "\n",
    "    print(\"Domain = \",input_str.split(\"/\")[0])\n",
    "    input_str = input_str.split(\"/\",1)[1]\n",
    "    \n",
    "    print(\"Path = \",input_str)\n"
   ]
  },
  {
   "cell_type": "markdown",
   "metadata": {},
   "source": [
    "**6. Custom Assertion**\n",
    "Write a function that accepts a number as input and uses a custom exception AssertionError to raise an error if the number is negative. Use an assert statement to check this condition."
   ]
  },
  {
   "cell_type": "markdown",
   "metadata": {},
   "source": [
    "**3. Define a custom exception class called InvalidInputError. Write a function that takes user input (an integer) and raises this custom exception if the input is not a positive integer. Use a try-except block to catch this custom exception and print an error message.**"
   ]
  },
  {
   "cell_type": "code",
   "execution_count": 16,
   "metadata": {},
   "outputs": [
    {
     "name": "stdout",
     "output_type": "stream",
     "text": [
      "Number is negative\n"
     ]
    }
   ],
   "source": [
    "def check_negative(num):\n",
    "    assert num>=0, \"Number is negative\"\n",
    "    return num\n",
    "\n",
    "try:\n",
    "    num = int(input())\n",
    "    print(check_negative(num))\n",
    "except AssertionError as e:\n",
    "    print(e)\n",
    "\n",
    "\n",
    "\n",
    "        \n"
   ]
  },
  {
   "cell_type": "code",
   "execution_count": null,
   "metadata": {},
   "outputs": [],
   "source": []
  },
  {
   "cell_type": "code",
   "execution_count": null,
   "metadata": {},
   "outputs": [],
   "source": []
  }
 ],
 "metadata": {
  "kernelspec": {
   "display_name": "Python 3",
   "language": "python",
   "name": "python3"
  },
  "language_info": {
   "codemirror_mode": {
    "name": "ipython",
    "version": 3
   },
   "file_extension": ".py",
   "mimetype": "text/x-python",
   "name": "python",
   "nbconvert_exporter": "python",
   "pygments_lexer": "ipython3",
   "version": "3.11.4"
  }
 },
 "nbformat": 4,
 "nbformat_minor": 2
}
