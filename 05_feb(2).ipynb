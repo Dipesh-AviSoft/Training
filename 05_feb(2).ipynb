{
 "cells": [
  {
   "cell_type": "markdown",
   "metadata": {},
   "source": [
    "05-feb-2024\n",
    "Assignment 2"
   ]
  },
  {
   "cell_type": "code",
   "execution_count": 35,
   "metadata": {},
   "outputs": [
    {
     "name": "stdout",
     "output_type": "stream",
     "text": [
      "['rohit', '9']\n",
      "['shakib', '56']\n",
      "['babar', '56']\n",
      "['rohit', '120']\n",
      "['rohit', '105']\n",
      "['shakib', '78']\n",
      "['rohit', '140']\n",
      "['babar', '45']\n",
      "['rohit', '130']\n",
      "['shakib', '102']\n",
      "['babar', '120']\n",
      "['babar', '5']\n",
      "['shakib', '72']\n",
      "['babar', '67']\n",
      "['Testing', '42']\n"
     ]
    }
   ],
   "source": [
    "import csv\n",
    "\n",
    "with open(\"scores.csv\") as file:\n",
    "    data = csv.reader(file)\n",
    "    for lines in data:\n",
    "        print(lines)\n",
    "    file.close()"
   ]
  },
  {
   "cell_type": "code",
   "execution_count": 50,
   "metadata": {},
   "outputs": [
    {
     "name": "stdout",
     "output_type": "stream",
     "text": [
      "['tesingrow', '21']\n",
      "['finalTesting', '43']\n"
     ]
    }
   ],
   "source": [
    "with open(\"scores1.csv\",\"w\", newline=\"\") as f:\n",
    "    writer = csv.writer(f)\n",
    "    row = (\"Testing\",42)\n",
    "    writer.writerow(row)\n",
    "    f.close()\n",
    "\n",
    "with open(\"scores1.csv\",\"w\", newline=\"\") as f:\n",
    "    writer = csv.writer(f)\n",
    "    rows = [(\"tesingrow\",\"21\"),(\"finalTesting\",\"43\")]\n",
    "    writer.writerows(rows)\n",
    "    f.close()\n",
    "\n",
    "\n",
    "with open(\"scores1.csv\",\"r\") as f:\n",
    "    reader = csv.reader(f)\n",
    "    for i in reader:\n",
    "        print(i)\n",
    "    f.close()\n"
   ]
  },
  {
   "cell_type": "code",
   "execution_count": 48,
   "metadata": {},
   "outputs": [
    {
     "name": "stdout",
     "output_type": "stream",
     "text": [
      "max. =  140.0\n",
      "min. =  5.0\n",
      "Avg. =  78.0\n"
     ]
    }
   ],
   "source": [
    "import csv\n",
    "\n",
    "with open(\"scores.csv\",\"r\") as f:\n",
    "    reader = csv.reader(f)\n",
    "    mini = float('inf')\n",
    "    maxi = float('-inf')\n",
    "    counter = 0\n",
    "    avg = 0\n",
    "    for row in reader:\n",
    "        mini = min(mini,float(row[1]))\n",
    "        maxi = max(maxi,float(row[1]))\n",
    "        avg = avg + float(row[1])\n",
    "        counter +=1\n",
    "    avg = avg//counter\n",
    "\n",
    "    print(\"max. = \",maxi)\n",
    "    print(\"min. = \",mini)\n",
    "    print(\"Avg. = \",avg)"
   ]
  },
  {
   "cell_type": "code",
   "execution_count": 52,
   "metadata": {},
   "outputs": [],
   "source": [
    "with open(\"scores1.csv\",\"a\", newline=\"\") as f:\n",
    "    writer = csv.writer(f)\n",
    "    row = (\"Testing\",42)\n",
    "    writer.writerow(row)\n",
    "    f.close()"
   ]
  },
  {
   "cell_type": "code",
   "execution_count": 11,
   "metadata": {},
   "outputs": [
    {
     "name": "stdout",
     "output_type": "stream",
     "text": [
      "<?xml version=\"1.0\" encoding=\"utf-8\"?>\n",
      "<books>\n",
      "<book>\n",
      "<title>The Lord of the Rings</title>\n",
      "<author>J.R.R. Tolkien</author>\n",
      "<genre>Fantasy</genre>\n",
      "<year>1954</year>\n",
      "<isbn>978-0547928220</isbn>\n",
      "</book>\n",
      "<book>\n",
      "<title>Pride and Prejudice</title>\n",
      "<author>Jane Austen</author>\n",
      "<genre>Romance</genre>\n",
      "<year>1813</year>\n",
      "<isbn>978-0140435225</isbn>\n",
      "</book>\n",
      "<book>\n",
      "<title>To Kill a Mockingbird</title>\n",
      "<author>Harper Lee</author>\n",
      "<genre>Fiction</genre>\n",
      "<year>1960</year>\n",
      "<isbn>978-0446310780</isbn>\n",
      "</book>\n",
      "</books>\n"
     ]
    }
   ],
   "source": [
    "from bs4 import BeautifulSoup\n",
    "with open(\"test.xml\",\"r\") as file:\n",
    "    xml_content = file.read()\n",
    "    # print(xml_content)\n",
    "soup = BeautifulSoup(xml_content, \"xml\")\n",
    "print(soup)"
   ]
  },
  {
   "cell_type": "code",
   "execution_count": 27,
   "metadata": {},
   "outputs": [
    {
     "name": "stdout",
     "output_type": "stream",
     "text": [
      "[<book>\n",
      "<title>The Lord of the Rings</title>\n",
      "<author>J.R.R. Tolkien</author>\n",
      "<genre>Fantasy</genre>\n",
      "<year>1954</year>\n",
      "<isbn>978-0547928220</isbn>\n",
      "</book>, <book>\n",
      "<title>Pride and Prejudice</title>\n",
      "<author>Jane Austen</author>\n",
      "<genre>Romance</genre>\n",
      "<year>1813</year>\n",
      "<isbn>978-0140435225</isbn>\n",
      "</book>, <book>\n",
      "<title>To Kill a Mockingbird</title>\n",
      "<author>Harper Lee</author>\n",
      "<genre>Fiction</genre>\n",
      "<year>1960</year>\n",
      "<isbn>978-0446310780</isbn>\n",
      "</book>]\n"
     ]
    }
   ],
   "source": [
    "from bs4 import BeautifulSoup\n",
    "with open(\"test.xml\",\"r\") as file:\n",
    "    xml_content = file.read()\n",
    "    # print(xml_content)\n",
    "soup = BeautifulSoup(xml_content, \"xml\")\n",
    "print(soup.find_all('book'))"
   ]
  },
  {
   "cell_type": "code",
   "execution_count": 25,
   "metadata": {},
   "outputs": [
    {
     "name": "stdout",
     "output_type": "stream",
     "text": [
      "<?xml version=\"1.0\" encoding=\"utf-8\"?>\n",
      "<books>\n",
      "<book tesing=\"sample tesing\">\n",
      "<title>The Lord of the Rings</title>\n",
      "<author>J.R.R. Tolkien</author>\n",
      "<genre>Fantasy</genre>\n",
      "<year>1954</year>\n",
      "<isbn>978-0547928220</isbn>\n",
      "</book>\n",
      "<book tesing=\"sample tesing\">\n",
      "<title>Pride and Prejudice</title>\n",
      "<author>Jane Austen</author>\n",
      "<genre>Romance</genre>\n",
      "<year>1813</year>\n",
      "<isbn>978-0140435225</isbn>\n",
      "</book>\n",
      "<book tesing=\"sample tesing\">\n",
      "<title>To Kill a Mockingbird</title>\n",
      "<author>Harper Lee</author>\n",
      "<genre>Fiction</genre>\n",
      "<year>1960</year>\n",
      "<isbn>978-0446310780</isbn>\n",
      "</book>\n",
      "</books>\n"
     ]
    }
   ],
   "source": [
    "from bs4 import BeautifulSoup\n",
    "with open(\"test.xml\",\"r\") as file:\n",
    "    f = file.read()\n",
    "soup = BeautifulSoup(f,'xml')\n",
    "\n",
    "for tags in soup.find_all('book'):\n",
    "    tags['tesing'] = \"sample tesing\"\n",
    "\n",
    "print(soup)"
   ]
  },
  {
   "cell_type": "code",
   "execution_count": 2,
   "metadata": {},
   "outputs": [
    {
     "name": "stdout",
     "output_type": "stream",
     "text": [
      "I\n",
      "the\n",
      "\n"
     ]
    }
   ],
   "source": [
    "with open(\"poem.txt\",\"r\") as file:\n",
    "    data = file.read()\n",
    "    data = data.replace(\",\",\"\")\n",
    "    data = data.replace(\"!\",\"\")\n",
    "    data = data.replace(\"—\",\"\")\n",
    "    data = data.replace(\".\",\"\")\n",
    "    data = data.replace(\";\",\"\")\n",
    "\n",
    "dict = {}\n",
    "\n",
    "for i in data.split():\n",
    "    if i in dict:\n",
    "        dict[i]+=1\n",
    "    else:\n",
    "        dict[i]=1\n",
    "\n",
    "maxi = 0\n",
    "word = \"\"\n",
    "for key,value in dict.items():\n",
    "    if(value>maxi):\n",
    "        maxi = value\n",
    "for key,value in dict.items():\n",
    "    if(value==maxi):\n",
    "        print(key)\n",
    "\n",
    "\n",
    "print(word)"
   ]
  },
  {
   "cell_type": "code",
   "execution_count": 53,
   "metadata": {},
   "outputs": [],
   "source": [
    "import csv\n",
    "\n",
    "file = open(\"stocks.csv\",\"r\")\n",
    "data = csv.DictReader(file)\n",
    "\n",
    "pe_ratio = 0\n",
    "pb_ratio = 0\n",
    "\n",
    "for row in data:\n",
    "    pe_ratio = int(row[\"Price\"])/int(row[\"Earnings Per Share\"])\n",
    "    pb_ratio = int(row[\"Price\"])/int(row[\"Book Value\"])\n",
    "\n",
    "    file = open(\"output.csv\",\"a\",newline=\"\")\n",
    "    data = [row[\"Company Name\"],pe_ratio,pb_ratio]\n",
    "    writer = csv.writer(file)\n",
    "    writer.writerow(data)\n",
    "    file.close()\n",
    "\n"
   ]
  },
  {
   "cell_type": "code",
   "execution_count": 15,
   "metadata": {},
   "outputs": [
    {
     "name": "stdout",
     "output_type": "stream",
     "text": [
      "Mango\n",
      "orange\n",
      "apple\n",
      "lemon\n",
      "\n",
      "['Mango', 'orange', 'apple', 'lemon'] \n",
      "['dog', 'cat', 'snake', 'cow'] \n",
      "\n"
     ]
    }
   ],
   "source": [
    "items = ['Mango','orange','apple','lemon']\n",
    "file = open('items.txt','w')\n",
    "\n",
    "for item in items:\n",
    "    file.write(item+'\\n')\n",
    "file.close()\n",
    "\n",
    "with open('items.txt','r',newline=\"\\n\") as file:\n",
    "    data = file.read()\n",
    "    print(data)\n",
    "\n",
    "items2 = [['Mango','orange','apple','lemon'],['dog','cat','snake','cow']]\n",
    "file = open('items.txt','w')\n",
    "\n",
    "for item in items2:\n",
    "    file.writelines(f\"{item} \\n\")\n",
    "\n",
    "\n",
    "file.close()\n",
    "\n",
    "with open('items.txt','r') as file:\n",
    "    data = file.read()\n",
    "    print(data)"
   ]
  },
  {
   "cell_type": "code",
   "execution_count": null,
   "metadata": {},
   "outputs": [],
   "source": []
  }
 ],
 "metadata": {
  "kernelspec": {
   "display_name": "Python 3",
   "language": "python",
   "name": "python3"
  },
  "language_info": {
   "codemirror_mode": {
    "name": "ipython",
    "version": 3
   },
   "file_extension": ".py",
   "mimetype": "text/x-python",
   "name": "python",
   "nbconvert_exporter": "python",
   "pygments_lexer": "ipython3",
   "version": "3.11.4"
  }
 },
 "nbformat": 4,
 "nbformat_minor": 2
}
