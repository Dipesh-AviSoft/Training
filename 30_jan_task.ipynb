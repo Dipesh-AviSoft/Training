{
 "cells": [
  {
   "cell_type": "code",
   "execution_count": 3,
   "id": "3abd5bac-05ad-4dfb-8841-4a1da50ecfb0",
   "metadata": {},
   "outputs": [
    {
     "name": "stdin",
     "output_type": "stream",
     "text": [
      "Enter the size of array 7\n",
      "Enter the value of x 3\n",
      " 1 1 1 2 2 3 3 \n"
     ]
    },
    {
     "name": "stdout",
     "output_type": "stream",
     "text": [
      "2\n"
     ]
    }
   ],
   "source": [
    "\"\"\"\n",
    "\n",
    "1.Number of occurrence\n",
    "Problem statement\n",
    "You have been given a sorted array/list of integers 'arr' of size 'n' and an integer 'x'.\n",
    "Find the total number of occurrences of 'x' in the array/list.\n",
    "Example:\n",
    "Input: 'n' = 7, 'x' = 3\n",
    "'arr' = [1, 1, 1, 2, 2, 3, 3]\n",
    "Output: 2\n",
    "Explanation: Total occurrences of '3' in the array 'arr' is 2.\n",
    "\n",
    "\"\"\"\n",
    "\n",
    "n = int(input(\"Enter the size of array\"))\n",
    "x = int(input(\"Enter the value of x\"))\n",
    "arr = []\n",
    "some_input = input().split()\n",
    "for i in some_input:\n",
    "    arr.append(int(i))\n",
    "\n",
    "dict = {}\n",
    "for i in arr:\n",
    "    if i in dict:\n",
    "        dict[i] += 1\n",
    "    else:\n",
    "        dict[i] = 1\n",
    "\n",
    "for key,value in dict.items():\n",
    "    if(key==x):\n",
    "        print(value)\n",
    "    \n",
    "        \n",
    "    \n",
    "    \n"
   ]
  },
  {
   "cell_type": "code",
   "execution_count": 17,
   "id": "1a8cd9ac-6b34-4f2b-813a-379c4cb72dec",
   "metadata": {},
   "outputs": [
    {
     "name": "stdin",
     "output_type": "stream",
     "text": [
      "Enter the size 5\n",
      "Enter the value of x 4\n",
      " 1 2 4 4 5\n"
     ]
    },
    {
     "name": "stdout",
     "output_type": "stream",
     "text": [
      "2 3\n"
     ]
    }
   ],
   "source": [
    "\"\"\"\n",
    "2.Find First and Last Position of Element in Sorted Array\n",
    "Problem statement\n",
    "You are given a non-decreasing array 'arr' consisting of 'n' integers and an integer 'x'. You need to find the first and last position of 'x' in the array.\n",
    "Note:\n",
    "1. The array follows 0-based indexing, so you need to return 0-based indices.\n",
    "2. If 'x' is not present in the array, return {-1 -1}.\n",
    "3. If 'x' is only present once in the array, the first and last position of its occurrence will be the same.\n",
    "Example:\n",
    "Input:  arr = [1, 2, 4, 4, 5],  x = 4\n",
    "Output: 2 3\n",
    "Explanation: The given array’s 0-based indexing is as follows:\n",
    " 1      2     4     4     5\n",
    " ↓      ↓     ↓     ↓     ↓\n",
    " 0      1     2     3     4\n",
    "So, the first occurrence of 4 is at index 2, and the last occurrence of 4 is at index 3\n",
    "\"\"\"\n",
    "\n",
    "size = int(input(\"Enter the size\"))\n",
    "x = int(input(\"Enter the value of x\"))\n",
    "arr = []\n",
    "some_input = input().split()\n",
    "for i in some_input:\n",
    "    arr.append(int(i))\n",
    "start,end=-1,-1\n",
    "flag=True\n",
    "if arr[size-1]==x:\n",
    "    end=size-1\n",
    "for i in range(size):\n",
    "    if(arr[i]==x):\n",
    "        if flag:\n",
    "            start=i\n",
    "            flag=False\n",
    "        else:\n",
    "            if arr[i+1]!=x:\n",
    "                end=i\n",
    "print(start ,end)\n",
    "    \n",
    "    \n"
   ]
  },
  {
   "cell_type": "code",
   "execution_count": 19,
   "id": "f89d013b-8d87-44ce-923e-533638cd114e",
   "metadata": {},
   "outputs": [
    {
     "name": "stdin",
     "output_type": "stream",
     "text": [
      "Enter the size 7\n",
      " 3 2 1 3 2 1 3\n"
     ]
    },
    {
     "name": "stdout",
     "output_type": "stream",
     "text": [
      "3 2 1 "
     ]
    }
   ],
   "source": [
    "\"\"\"\n",
    "3.Find Duplicates In Array\n",
    "Problem statement\n",
    "You are given an array/list 'ARR' consisting of N integers, which contains elements only in the range 0 to N - 1. \n",
    "Some of the elements may be repeated in 'ARR'. Your task is to find all such duplicate elements.\n",
    "\n",
    "Note:\n",
    "1. All the elements are in the range 0 to N - 1.\n",
    "2. The elements may not be in sorted order.\n",
    "3. You can return the duplicate elements in any order.\n",
    "4. If there are no duplicates present then return an empty array.\n",
    "\n",
    "Sample Input 1:\n",
    "2\n",
    "5\n",
    "0 2 1 2 3 \n",
    "7\n",
    "3 2 1 3 2 1 5\n",
    "Sample Output 1:\n",
    "2\n",
    "1 2 3\n",
    "Explanation For Sample Input 1:\n",
    "For the first test case, since 2 is the only duplicate element, so we return it.\n",
    "\n",
    "For the second test case, since 1, 2, 3 are duplicates so we return them. Note that 2, 3, 1 and 3, 2, 1 are also acceptable.\n",
    "\n",
    "\n",
    "    \"\"\"\n",
    "\n",
    "size = int(input(\"Enter the size\"))\n",
    "arr = []\n",
    "some_input = input().split()\n",
    "for i in some_input:\n",
    "    arr.append(int(i))\n",
    "\n",
    "dict = {}\n",
    "for i in arr:\n",
    "    if i in dict:\n",
    "        dict[i] += 1\n",
    "    else:\n",
    "        dict[i] = 1\n",
    "        \n",
    "for key,value in dict.items():\n",
    "    if(value>1):\n",
    "        print(key,end = \" \") \n",
    "    "
   ]
  },
  {
   "cell_type": "code",
   "execution_count": null,
   "id": "1f424dcd-9e93-437d-a03e-709e654fcc0e",
   "metadata": {},
   "outputs": [],
   "source": [
    "\"\"\"\n",
    "4.Search In Infinite Sorted 0-1 Array\n",
    "Problem statement\n",
    "You are given an infinite array consisting of only ones and zeroes, in sorted order. You have to find the index of the first occurrence of 1.\n",
    "\n",
    "Example:\n",
    "If the array is 0 0 0 0 1 1 1 1… then, the first occurrence of 1 will be at index 4 therefore the answer here is 4.\n",
    "Note:\n",
    "As the array size is infinite, the actual array won’t be given to you. Instead, you will be able to access the array elements by calling a method named ‘get’.\n",
    "\n",
    "get(i) : returns the value present at index I.\n",
    "\n",
    "Indexing is 0-based. \n",
    "\n",
    "Instead of representing an infinite array in the input, we give the index of the first occurrence of 1 in the input itself. However, this input will be completely hidden from the user.\n",
    "\n",
    "It is guaranteed that the answer will fit in a 64-bit integer.\n",
    "\n",
    "\"\"\""
   ]
  },
  {
   "cell_type": "code",
   "execution_count": 21,
   "id": "ea6fd726-6d82-44f0-8a98-b24a34b00fd3",
   "metadata": {},
   "outputs": [
    {
     "name": "stdin",
     "output_type": "stream",
     "text": [
      "Enter the size 5 \n",
      " 0 1 2 1 2 1 2\n"
     ]
    },
    {
     "name": "stdout",
     "output_type": "stream",
     "text": [
      "0111222\n"
     ]
    }
   ],
   "source": [
    "\"\"\"\n",
    "\n",
    "4.Sort 0 1 2\n",
    "Problem statement\n",
    "You have been given an integer array/list(ARR) of size 'N'. It only contains 0s, 1s and 2s. Write a solution to sort this array/list.\n",
    "\n",
    "Note :\n",
    "without using any inbuilt function\n",
    "Try to solve the problem in 'Single Scan'. ' Single Scan' refers to iterating over the array/list just once or to put it in other\n",
    "words, you will be visiting each element in the array/list just once.\n",
    "\n",
    "Sample Input 1 :\n",
    "2\n",
    "6\n",
    "0 1 2 2 1 0\n",
    "7\n",
    "0 1 2 1 2 1 2\n",
    "Sample Output 1 :\n",
    "0 0 1 1 2 2\n",
    "0 1 1 1 2 2 2\n",
    "\n",
    "\"\"\"\n",
    "\n",
    "size = int(input(\"Enter the size\"))\n",
    "\n",
    "arr = []\n",
    "some_input = input().split()\n",
    "for i in some_input:\n",
    "    arr.append(int(i))\n",
    "\n",
    "count0 = 0\n",
    "count1 = 0\n",
    "count2 = 0\n",
    "\n",
    "for i in arr:\n",
    "    if i==0:\n",
    "        count0+=1\n",
    "    elif i==1:\n",
    "        count1+=1\n",
    "    else:\n",
    "        count2+=1\n",
    "\n",
    "print('0'*count0 + '1'*count1 + '2'*count2)\n",
    "    "
   ]
  },
  {
   "cell_type": "code",
   "execution_count": 27,
   "id": "8d428a34-15b3-4683-b9bc-625d00af3314",
   "metadata": {},
   "outputs": [
    {
     "name": "stdin",
     "output_type": "stream",
     "text": [
      " 3\n"
     ]
    },
    {
     "name": "stdout",
     "output_type": "stream",
     "text": [
      "45\n"
     ]
    }
   ],
   "source": [
    "\"\"\"\n",
    "5.Problem statement\n",
    "For a given two-dimensional square matrix of size (N x N). Find the total sum of elements on both the diagonals and at all the\n",
    "four boundaries.\n",
    "\n",
    "Sample input 1:\n",
    "1\n",
    "3\n",
    "1 2 3\n",
    "4 5 6\n",
    "7 8 9\n",
    "Sample Output 1:\n",
    "45\n",
    "Explanation for Sample Output 1:\n",
    "The boundary elements are 1, 2, 3, 6, 9, 8, 7 and 4. \n",
    "\n",
    "The first-diagonal elements are 1, 5 and 9. \n",
    "\n",
    "The second-diagonal elements are 3, 5 and 7.\n",
    "\n",
    "We just need to add all these numbers making sure that no number is added twice. For example, '1' is both a boundary \n",
    "element and a first-diagonal element similarly, '5' contributes to both the diagonals but they won't be added twice.\n",
    "\n",
    "Hence, we add up, [1 + 2 + 3 + 6 + 9 + 8 + 7 + 4 + 5] to give 45 as the output.\n",
    "\n",
    "\"\"\"\n",
    "\n",
    "n = int(input())\n",
    "matrix = []\n",
    "num = 1\n",
    "for i in range(n):\n",
    "    temp_row = []\n",
    "    for j in range(n):\n",
    "        temp_row.append(num)\n",
    "        num+=1\n",
    "    matrix.append(temp_row)\n",
    "\n",
    "sum = 0\n",
    "\n",
    "for i in range(0,n):                    #top row\n",
    "    sum = sum + matrix[0][i]\n",
    "    sum = sum + matrix[n-1][i]          #bottom row\n",
    "for i in range(1,n-1):                    \n",
    "    sum = sum + matrix[i][0]\n",
    "    sum = sum + matrix[i][n-1]\n",
    "    sum = sum + matrix[i][i]\n",
    "\n",
    "\n",
    "\n",
    "print(sum)\n",
    "\n",
    "        "
   ]
  },
  {
   "cell_type": "code",
   "execution_count": null,
   "id": "a5c6a84e-0762-40a6-9aea-fc4ad43cd65b",
   "metadata": {},
   "outputs": [],
   "source": []
  }
 ],
 "metadata": {
  "kernelspec": {
   "display_name": "Python 3 (ipykernel)",
   "language": "python",
   "name": "python3"
  },
  "language_info": {
   "codemirror_mode": {
    "name": "ipython",
    "version": 3
   },
   "file_extension": ".py",
   "mimetype": "text/x-python",
   "name": "python",
   "nbconvert_exporter": "python",
   "pygments_lexer": "ipython3",
   "version": "3.11.4"
  }
 },
 "nbformat": 4,
 "nbformat_minor": 5
}
