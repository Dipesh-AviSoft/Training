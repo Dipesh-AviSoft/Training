{
 "cells": [
  {
   "cell_type": "markdown",
   "metadata": {},
   "source": [
    "  ####    -------------------------------------------- **Tic Tac Toe Game in Python** ---------------------------------------------------------\n",
    "\n",
    "Create a Python program to implement a two-player Tic Tac Toe game. The game should be played in the console, and the players will take turns to make their moves.\n",
    "\n",
    "**Requirements:**\n",
    "\n",
    "**Player Names:**\n",
    "Allow players to enter their names at the beginning of the game instead of using generic 'Player 1' and 'Player 2'. Display the players' names throughout the game.\n",
    "\n",
    "**Board Size Selection:**\n",
    "Allow users to choose the size of the game board (e.g., 4x4, 5x5) instead of the standard 3x3. Make sure to adapt the win condition check accordingly.\n",
    "\n",
    "**Dynamic Symbols:**\n",
    "Let players choose their own symbols or even use non-traditional symbols. For example, they could play with letters, or any other characters.\n",
    "\n",
    "**Game Statistics:**\n",
    "Keep track of statistics such as the number of games played, wins for each player, and draws. Display these statistics at the end of each game or in a separate menu.\n",
    "\n",
    "**The game should check for valid moves and display an error message if a player attempts to make an invalid move (e.g., choosing a cell that is already occupied).**\n",
    "**The game should check for a win condition after each move to determine if a player has won.**\n",
    "**If the board is filled with no winner, the game should declare a draw.**\n",
    "**After each game, ask players if they want to play again.**\n"
   ]
  },
  {
   "cell_type": "code",
   "execution_count": 3,
   "metadata": {},
   "outputs": [
    {
     "name": "stdout",
     "output_type": "stream",
     "text": [
      "0 0\n",
      "0 1\n",
      "0 2\n",
      "1 0\n",
      "1 1\n",
      "1 2\n",
      "2 0\n",
      "2 1\n",
      "2 2\n"
     ]
    }
   ],
   "source": [
    "matrix = []\n",
    "for i in range(3):\n",
    "    for j in range(3):\n",
    "        temp_list = [i,j]\n",
    "        matrix.append(temp_list)\n",
    "\n",
    "\n",
    "for i in range(3):\n",
    "    for j in range(3):\n",
    "        print(i,j)\n",
    "\n"
   ]
  },
  {
   "cell_type": "code",
   "execution_count": null,
   "metadata": {},
   "outputs": [],
   "source": []
  }
 ],
 "metadata": {
  "kernelspec": {
   "display_name": "Python 3",
   "language": "python",
   "name": "python3"
  },
  "language_info": {
   "codemirror_mode": {
    "name": "ipython",
    "version": 3
   },
   "file_extension": ".py",
   "mimetype": "text/x-python",
   "name": "python",
   "nbconvert_exporter": "python",
   "pygments_lexer": "ipython3",
   "version": "3.11.4"
  }
 },
 "nbformat": 4,
 "nbformat_minor": 2
}
