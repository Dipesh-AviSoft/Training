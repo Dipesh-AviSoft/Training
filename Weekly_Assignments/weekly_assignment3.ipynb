{
 "cells": [
  {
   "cell_type": "markdown",
   "metadata": {},
   "source": [
    "  ####    -------------------------------------------- **Tic Tac Toe Game in Python** ---------------------------------------------------------\n",
    "\n",
    "Create a Python program to implement a two-player Tic Tac Toe game. The game should be played in the console, and the players will take turns to make their moves.\n",
    "\n",
    "**Requirements:**\n",
    "\n",
    "**Player Names:**\n",
    "Allow players to enter their names at the beginning of the game instead of using generic 'Player 1' and 'Player 2'. Display the players' names throughout the game.\n",
    "\n",
    "**Board Size Selection:**\n",
    "Allow users to choose the size of the game board (e.g., 4x4, 5x5) instead of the standard 3x3. Make sure to adapt the win condition check accordingly.\n",
    "\n",
    "**Dynamic Symbols:**\n",
    "Let players choose their own symbols or even use non-traditional symbols. For example, they could play with letters, or any other characters.\n",
    "\n",
    "**Game Statistics:**\n",
    "Keep track of statistics such as the number of games played, wins for each player, and draws. Display these statistics at the end of each game or in a separate menu.\n",
    "\n",
    "**The game should check for valid moves and display an error message if a player attempts to make an invalid move (e.g., choosing a cell that is already occupied).**\n",
    "**The game should check for a win condition after each move to determine if a player has won.**\n",
    "**If the board is filled with no winner, the game should declare a draw.**\n",
    "**After each game, ask players if they want to play again.**\n"
   ]
  },
  {
   "cell_type": "code",
   "execution_count": 4,
   "metadata": {},
   "outputs": [],
   "source": [
    "import numpy as np\n",
    "\n",
    "class TieTacToe:\n",
    "    matrix = []\n",
    "\n",
    "    \n",
    "    def __init__(n):\n",
    "        TieTacToe.initializegame(n)\n",
    "\n",
    "    @classmethod\n",
    "    def initializegame(cls,n):\n",
    "        cls.matrix = np.zeros((n,n),dtype=int)\n",
    "\n",
    "    @classmethod\n",
    "    def rowcheck(cls):\n",
    "        \n",
    "\n",
    "    def colcheck(cls):\n",
    "        pass\n",
    "\n",
    "    def diagonalcheck(cls):\n",
    "        pass\n",
    "\n",
    "\n",
    "    \n",
    "    \n",
    "\n"
   ]
  },
  {
   "cell_type": "code",
   "execution_count": null,
   "metadata": {},
   "outputs": [],
   "source": []
  }
 ],
 "metadata": {
  "kernelspec": {
   "display_name": "Python 3",
   "language": "python",
   "name": "python3"
  },
  "language_info": {
   "codemirror_mode": {
    "name": "ipython",
    "version": 3
   },
   "file_extension": ".py",
   "mimetype": "text/x-python",
   "name": "python",
   "nbconvert_exporter": "python",
   "pygments_lexer": "ipython3",
   "version": "3.11.4"
  }
 },
 "nbformat": 4,
 "nbformat_minor": 2
}
