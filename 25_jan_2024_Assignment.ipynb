{
 "cells": [
  {
   "cell_type": "code",
   "execution_count": null,
   "id": "3d121f9f-7485-4784-bf56-7ae68c12304c",
   "metadata": {},
   "outputs": [],
   "source": [
    "\"\"\"\n",
    "Given an array 'arr' containing 'n' elements, rotate this array left once and return it.\n",
    "Rotating the array left by one means shifting all elements by one place to the left and moving\n",
    "the first element to the last position in the array.\n",
    "Example:\n",
    "Input: 'a' = 5, 'arr' = [1, 2, 3, 4, 5]\n",
    "Output: [2, 3, 4, 5, 1]\n",
    "Explanation: We moved the 2nd element to the 1st position, and 3rd element to the 2nd position,\n",
    "and 4th element to the 3rd position, and the 5th element to the 4th position, and move the 1st \n",
    "element to the 5th position.\n",
    "\n",
    "\"\"\""
   ]
  },
  {
   "cell_type": "code",
   "execution_count": null,
   "id": "124969c0-7f4f-4a1a-9fee-02a2976591ae",
   "metadata": {},
   "outputs": [],
   "source": [
    "arr = []\n",
    "n = int(input(\"Enter how many element are in the array\"))\n",
    "while(n!=0):\n",
    "    temp = int(input(\"Enter the number\"))\n",
    "    arr.append(temp)\n",
    "    n = n-1\n",
    "\n",
    "s_temp = arr[0]\n",
    "print(\"Original Array\",end =\" \")\n",
    "print(arr)\n",
    "\n",
    "for i in range(1,len(arr)):\n",
    "    arr[i-1]=arr[i]\n",
    "    \n",
    "arr[len(arr)-1]=s_temp;\n",
    "\n",
    "print(\"Rotated Array\",end =\" \")\n",
    "print(arr)"
   ]
  },
  {
   "cell_type": "code",
   "execution_count": null,
   "id": "f671d882-48a0-43c0-aef7-d324035f893d",
   "metadata": {
    "scrolled": true
   },
   "outputs": [],
   "source": [
    "\"\"\"\n",
    "You are given an array 'arr' of length 'n', consisting of integers.\n",
    "A subarray is a contiguous segment of an array. In other words, a \n",
    "subarray can be formed by removing 0 or more integers from the beginning\n",
    "and 0 or more integers from the end of an array.\n",
    "\n",
    "Find the sum of the subarray (including empty subarray) having maximum sum among all subarrays.\n",
    "The sum of an empty subarray is 0.\n",
    "Example :\n",
    "Input: 'arr' = [1, 2, 7, -4, 3, 2, -10, 9, 1]\n",
    "Output: 11\n",
    "Explanation: The subarray yielding the maximum sum is [1, 2, 7, -4, 3, 2].\n",
    "\n",
    "\"\"\""
   ]
  },
  {
   "cell_type": "code",
   "execution_count": null,
   "id": "17207247-89ba-4b68-b273-2c640edc5803",
   "metadata": {},
   "outputs": [],
   "source": []
  },
  {
   "cell_type": "code",
   "execution_count": null,
   "id": "80d1c0a7-e569-40a1-887d-9a09b54775a3",
   "metadata": {},
   "outputs": [],
   "source": [
    "\"\"\"\n",
    "Write a function to reverse a string without using any built-in reverse functions.\n",
    "\n",
    "\"\"\"\n"
   ]
  },
  {
   "cell_type": "code",
   "execution_count": null,
   "id": "e67a7425-493d-4910-b28d-ed1c3f9db0b1",
   "metadata": {},
   "outputs": [],
   "source": [
    "str = input(\"Enter the string\")\n",
    "\n",
    "def reverse(str):\n",
    "\n",
    "    new_str = \"\"\n",
    "    for i in str:\n",
    "        new_str = i + new_str\n",
    "    return new_str\n",
    "\n",
    "reverse(str)"
   ]
  },
  {
   "cell_type": "code",
   "execution_count": null,
   "id": "d18feb7b-e8e7-4a7d-93fb-5cd39f6d010a",
   "metadata": {},
   "outputs": [],
   "source": [
    "\"\"\" \n",
    "\n",
    "4.Write a function to check if two strings are anagrams of each other.\n",
    "Example:\n",
    "Input 1: \"listen\"\n",
    "Input 2: \"silent\"\n",
    "Output: Are Anagrams: True\n",
    "Explanation\n",
    "function first removes spaces and converts both input strings to lowercase to make the comparison case-insensitive.\n",
    "Then, it checks if the sorted list of characters in both strings is the same. If they are the same, the strings are anagrams.\n",
    "\n",
    "The function returns True for this example because the characters in \"listen\" can be rearranged to form \"silent.\"\n",
    "If the characters were different or had different frequencies, the function would return False.\n",
    "\n",
    "\"\"\""
   ]
  },
  {
   "cell_type": "code",
   "execution_count": null,
   "id": "e6fe35eb-60fc-403f-831b-3213b9db787b",
   "metadata": {},
   "outputs": [],
   "source": [
    "input1 = list((input(\"\")).replace(\" \",\"\"))\n",
    "input2 = list((input(\"\")).replace(\" \",\"\"))\n",
    "\n",
    "new1 = ''.join(sorted(input1))\n",
    "new2 = ''.join(sorted(input2))\n",
    "\n",
    "if(new1 == new2):\n",
    "    print(\"True\")\n",
    "else:\n",
    "    print(\"False\")\n",
    "\n",
    "\n"
   ]
  },
  {
   "cell_type": "code",
   "execution_count": null,
   "id": "cd3a0426-760d-4c4a-8572-9461590691c9",
   "metadata": {},
   "outputs": [],
   "source": [
    "\"\"\"\n",
    "\n",
    "1. Write a program to print all the unique characters in a String. For instance, \n",
    "if the input string is “abcb”, the output will be the characters ‘a’ and ‘c’ as they are unique. \n",
    "The character ‘b’ repeats twice and so it will not be printed.\n",
    "\n",
    "Input: abcab\n",
    "Output: c\n",
    "\n",
    "\"\"\"\n",
    "\n"
   ]
  },
  {
   "cell_type": "code",
   "execution_count": null,
   "id": "2385c314-ffde-4ad6-b305-4c0156cbd153",
   "metadata": {},
   "outputs": [],
   "source": [
    "input1 = input(\"Enter the string\")\n",
    "dict1 = {}\n",
    "for word in input1:\n",
    "    if word in dict1:\n",
    "        dict1[word] += 1\n",
    "    else:\n",
    "        dict1[word] = 1\n",
    "\n",
    "for key,value in dict1.items():\n",
    "    if(value == 1):\n",
    "        print(key,end = \" \") \n",
    "    \n",
    "    \n",
    "    "
   ]
  },
  {
   "cell_type": "code",
   "execution_count": null,
   "id": "109649a4-5567-4011-92d1-d5266dffe3d4",
   "metadata": {},
   "outputs": [],
   "source": [
    "\"\"\"\n",
    "\n",
    "2. Given three values - Start Fahrenheit Value (S), End Fahrenheit value (E) and Step Size (W), you need to convert \n",
    "all Fahrenheit values from Start to End at the gap of W, into their corresponding Celsius values and print the table.\n",
    "\n",
    "\"\"\""
   ]
  },
  {
   "cell_type": "code",
   "execution_count": null,
   "id": "2507515b-81f8-45c3-8511-64614fcddad1",
   "metadata": {},
   "outputs": [],
   "source": [
    "S = int(input(\"Start Value\"))\n",
    "E = int(input(\"End Value\"))\n",
    "W = int(input(\"Step\"))\n",
    "\n",
    "print(\"Fahrenheit Scale\" ,end=\" \")\n",
    "for i in range(S,E,W):\n",
    "    print(i,end=\" \")\n",
    "print('\\n')\n",
    "print(\"Celsius Scale\" ,end=\" \")\n",
    "for i in range(S,E,W):\n",
    "   \n",
    "    print( \"{0:.2f}\".format(((i-32)*(5/9))),end=\" \")\n",
    "\n"
   ]
  },
  {
   "cell_type": "code",
   "execution_count": null,
   "id": "e3c8dc56-cdb7-4145-8c65-2fed216ab8d4",
   "metadata": {},
   "outputs": [],
   "source": [
    "\"\"\"\n",
    "3.Write a program to input an integer 'n' and print the sum of all its even digits and the sum of all its odd digits separately.\n",
    "Digits mean numbers, not places! That is, if the given integer is \"132456\", even digits are 2, 4, and 6, and odd digits are 1, 3, and 5.\n",
    "Example :\n",
    "Input: 'n' = 132456\n",
    "Output: 12 9\n",
    "Explanation:\n",
    "The sum of even digits = 2 + 4 + 6 = 12\n",
    "The sum of odd digits = 1 + 3 + 5 = 9\n",
    "\n",
    "\"\"\""
   ]
  },
  {
   "cell_type": "code",
   "execution_count": null,
   "id": "ebd3e62c-04b7-4183-8069-23fdc793961c",
   "metadata": {},
   "outputs": [],
   "source": [
    "n = int(input(\"Enter the number: \"))\n",
    "list_n = []\n",
    "while(n!=0):\n",
    "    digit = n%10\n",
    "    n = n//10\n",
    "    list_n.append(digit);\n",
    "    \n",
    "even_sum = 0\n",
    "odd_sum = 0\n",
    "for i in list_n:\n",
    "    if(i%2==0):\n",
    "        even_sum += i\n",
    "    else:\n",
    "        odd_sum += i;\n",
    "\n",
    "print(\"Even sum \",even_sum)\n",
    "print(\"Odd sum \",odd_sum)\n",
    "    "
   ]
  },
  {
   "cell_type": "code",
   "execution_count": null,
   "id": "97269d56-adf7-4d86-add5-60fdd8e404a8",
   "metadata": {},
   "outputs": [],
   "source": [
    "\"\"\"\n",
    "4. Write a program that takes a number as input and prints all its factors except 1 and the number itself.. \n",
    "If the number has only two factors (1 and the number itself), then the program should print -1.\n",
    "Sample Input:\n",
    "8\n",
    "Sample Output:\n",
    "2 4\n",
    "Explanation of Sample Output 1 :\n",
    "The factors for the number excluding 1 and itself are 2 and 4, so the output is 2 4.\n",
    "\n",
    "\"\"\""
   ]
  },
  {
   "cell_type": "code",
   "execution_count": null,
   "id": "6559e892-5d31-475e-a606-4630cf1cd6b1",
   "metadata": {},
   "outputs": [],
   "source": [
    "n = int(input(\"Enter the number\"))\n",
    "counter = 0;\n",
    "\n",
    "for i in range(2,n):\n",
    "    \n",
    "    if(n%i==0):\n",
    "        counter += 1 \n",
    "        print(i,end = \" \" )\n",
    "\n",
    "if(counter==0):\n",
    "    print(\"-1\")\n",
    "    \n",
    "    "
   ]
  },
  {
   "cell_type": "code",
   "execution_count": null,
   "id": "447a2953-d8c0-4813-9cbb-7cb8e58c3d45",
   "metadata": {},
   "outputs": [],
   "source": [
    "\"\"\"\n",
    "5.Write a program to find x to the power n (i.e. x^n). Take x and n from the user. You need to print the answer.\n",
    "Note : For this question, you can assume that 0 raised to the power of 0 is 1\n",
    "Sample Input :\n",
    " 3 4\n",
    "Sample Output :\n",
    "81\n",
    "\n",
    "\"\"\""
   ]
  },
  {
   "cell_type": "code",
   "execution_count": null,
   "id": "37927868-d89b-498f-a6ae-9bbf0db2cddf",
   "metadata": {},
   "outputs": [],
   "source": [
    "x,n = input().split()\n",
    "\n",
    "x = int(x)\n",
    "n = int(n)\n",
    "\n",
    "print(x**n)"
   ]
  },
  {
   "cell_type": "code",
   "execution_count": null,
   "id": "f5cdcec1-b6e6-4d14-9a4d-2597b1e07f68",
   "metadata": {},
   "outputs": [],
   "source": [
    "\"\"\"\n",
    "\n",
    "6. Write a program to generate the reverse of a given number N. Print the corresponding reverse number.\n",
    "\n",
    "Note : If a number has trailing zeros, then its reverse will not include them. For e.g., reverse of 10400 will be 401 instead of 00401.\n",
    "\n",
    "Sample Input 1 :\n",
    "1234\n",
    "Sample Output 1 :\n",
    "4321\n",
    "\n",
    "\"\"\""
   ]
  },
  {
   "cell_type": "code",
   "execution_count": null,
   "id": "5dabff34-ec5f-464a-a668-10766892a92b",
   "metadata": {},
   "outputs": [],
   "source": [
    "num =  int(input(\"Enter the number\"))\n",
    "reverse_number = 0\n",
    "while(num!=0):\n",
    "    digit = num%10\n",
    "    reverse_number = reverse_number*10 + digit\n",
    "    num = num //10\n",
    "print(reverse_number)"
   ]
  },
  {
   "cell_type": "code",
   "execution_count": null,
   "id": "ff964a52-efaf-4b92-9d68-03fa2acde801",
   "metadata": {},
   "outputs": [],
   "source": [
    "\"\"\"\n",
    "1.Print the following pattern for the given N number of rows.\n",
    "\n",
    "Pattern for N = 4\n",
    "A\n",
    "BC\n",
    "CDE\n",
    "DEFG\n",
    "\n",
    "\"\"\""
   ]
  },
  {
   "cell_type": "code",
   "execution_count": null,
   "id": "6e18147f-c559-4bad-afc6-a733e48ef7e3",
   "metadata": {},
   "outputs": [],
   "source": [
    "N = int(input(\"Pattern for N =\"))\n",
    "col = 1\n",
    "Alphabet = 'A'\n",
    "\n",
    "for i in range(0,N):\n",
    "    d = Alphabet\n",
    "    for j in range(0,col):\n",
    "        print(d,end =\" \")\n",
    "        d = chr(ord(d)+1)\n",
    "    Alphabet= chr(ord(Alphabet)+1)\n",
    "    print('\\n')\n",
    "    col = col + 1\n"
   ]
  },
  {
   "cell_type": "code",
   "execution_count": null,
   "id": "6d475c74-5983-4f69-8769-921db23210aa",
   "metadata": {},
   "outputs": [],
   "source": [
    "\"\"\"\n",
    "2.Print the following pattern for the given N number of rows.\n",
    "\n",
    "Pattern for N = 4\n",
    "1\n",
    "21\n",
    "321\n",
    "4321\n",
    "\n",
    "\"\"\"\n",
    "\n",
    "row = 4\n",
    "col = 1\n",
    "num = 1\n",
    "\n",
    "for i in range(0,row):\n",
    "    for j in range(0,col):\n",
    "        print(num,end=\"\")\n",
    "        num -= 1\n",
    "\n",
    "    print('\\n')\n",
    "    col += 1\n",
    "    num = col\n",
    "\n"
   ]
  },
  {
   "cell_type": "code",
   "execution_count": null,
   "id": "beeabca5-74b9-4a6f-b79b-531ae4db8fa6",
   "metadata": {},
   "outputs": [],
   "source": [
    "\"\"\"\n",
    "3.Print the following pattern for the given N number of rows.\n",
    "\n",
    "Pattern for N = 3\n",
    " A\n",
    " BB\n",
    " CCC\n",
    "\n",
    " \"\"\"\n",
    "\n",
    "n = int(input())\n",
    "alpha = 'A'\n",
    "for i in range(1,n+1):\n",
    "    print(alpha*i,end=\" \")\n",
    "    alpha = chr(ord(alpha)+1)\n",
    "    print('\\n')\n",
    "    "
   ]
  },
  {
   "cell_type": "code",
   "execution_count": null,
   "id": "327aad12-2006-47b0-b509-89439725430a",
   "metadata": {},
   "outputs": [],
   "source": [
    "\"\"\"\n",
    "5.Print the following pattern for the given number of rows.\n",
    "\n",
    "Pattern for N = 5\n",
    "E\n",
    "DE\n",
    "CDE\n",
    "BCDE\n",
    "ABCDE\n",
    "\"\"\"\n",
    "\n",
    "n = int(input(\"Pattern for N = \"))\n",
    "\n",
    "alpha = chr(65+n-1)\n",
    "col = 1;\n",
    "\n",
    "for i in range(0,n):\n",
    "    temp = chr(ord(alpha)-i)\n",
    "    for j in range(0,col):\n",
    "        print(temp,end=\"\")\n",
    "        temp = chr(ord(temp)+1)\n",
    "    print('\\n')\n",
    "    col += 1\n",
    "        \n"
   ]
  },
  {
   "cell_type": "code",
   "execution_count": null,
   "id": "5a139fb4-2377-4484-9d7d-8cf7202e72e6",
   "metadata": {},
   "outputs": [],
   "source": [
    "\"\"\"\n",
    "\n",
    "6.Write a program to print parallelogram pattern for the given N number of rows.\n",
    "\n",
    "For N = 3\n",
    "***\n",
    " ***\n",
    "  ***\n",
    "\"\"\"\n",
    "\n",
    "n = int(input())\n",
    "col=row=n\n",
    "for i in range(0,n):\n",
    "    for j in range(i+1):\n",
    "        print(\" \",end = \"\")\n",
    "    for k in range(n):\n",
    "        print(\"*\",end=\"\")\n",
    "\n",
    "    print('\\n')\n",
    "        \n"
   ]
  },
  {
   "cell_type": "code",
   "execution_count": null,
   "id": "d9c18207-8bc8-469a-9b9d-80a1eaaca49b",
   "metadata": {},
   "outputs": [],
   "source": [
    "\"\"\"\n",
    "7.Print the following pattern for the given N number of rows.\n",
    "\n",
    "Pattern for N = 3\n",
    "      1 \n",
    "     12\n",
    "    123\n",
    "\"\"\"\n",
    "\n",
    "n = int(input())\n",
    "col = 1 \n",
    "spacing = 5\n",
    "number = 1\n",
    "for i in range(n):\n",
    "    temp = number\n",
    "    print(\" \"*spacing,end=\"\")\n",
    "    spacing -=1\n",
    "    for j in range(0,col):\n",
    "        print(number,end=\"\")\n",
    "        number += 1\n",
    "    number = temp\n",
    "    print('\\n') \n",
    "    col += 1\n",
    "    \n",
    "        "
   ]
  },
  {
   "cell_type": "code",
   "execution_count": null,
   "id": "43f7ced5-bf4c-482a-9a6c-c23e5ca1f40a",
   "metadata": {},
   "outputs": [],
   "source": []
  },
  {
   "cell_type": "code",
   "execution_count": 168,
   "id": "0cc697f0-5196-4a40-a466-57685fe0fdc5",
   "metadata": {},
   "outputs": [
    {
     "name": "stdin",
     "output_type": "stream",
     "text": [
      " 3\n"
     ]
    },
    {
     "name": "stdout",
     "output_type": "stream",
     "text": [
      "3571\n",
      "5713\n",
      "7135\n"
     ]
    }
   ],
   "source": [
    "\"\"\"\n",
    "8.Write a program to print the pattern for the given N number of rows.\n",
    "\n",
    "For N = 4\n",
    "\n",
    "1357\n",
    "3571\n",
    "5713\n",
    "7135\n",
    "\"\"\"\n",
    "\n",
    "def kuchkuch(n):\n",
    "    arr = list(n);\n",
    "    s_temp = arr[0]\n",
    "    for i in range(1,len(arr)):\n",
    "        arr[i-1]=arr[i]\n",
    "        \n",
    "    arr[len(arr)-1]=s_temp;\n",
    "    return ''.join(arr);\n",
    "\n",
    "n = int(input())\n",
    "temp1 = \"1357\"\n",
    "while(n!=0):\n",
    "    temp = kuchkuch(temp1)\n",
    "    print(temp)\n",
    "    temp1 = temp\n",
    "    n -=1"
   ]
  },
  {
   "cell_type": "code",
   "execution_count": null,
   "id": "b173c01f-a87d-4583-bcca-f5d502357a2a",
   "metadata": {},
   "outputs": [],
   "source": []
  }
 ],
 "metadata": {
  "kernelspec": {
   "display_name": "Python 3 (ipykernel)",
   "language": "python",
   "name": "python3"
  },
  "language_info": {
   "codemirror_mode": {
    "name": "ipython",
    "version": 3
   },
   "file_extension": ".py",
   "mimetype": "text/x-python",
   "name": "python",
   "nbconvert_exporter": "python",
   "pygments_lexer": "ipython3",
   "version": "3.11.4"
  }
 },
 "nbformat": 4,
 "nbformat_minor": 5
}
